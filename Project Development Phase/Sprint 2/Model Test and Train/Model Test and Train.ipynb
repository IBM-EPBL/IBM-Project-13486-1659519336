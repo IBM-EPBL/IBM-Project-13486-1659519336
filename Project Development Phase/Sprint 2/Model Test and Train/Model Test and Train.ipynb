{
 "cells": [
  {
   "cell_type": "markdown",
   "metadata": {},
   "source": [
    "# Import Libraries"
   ]
  },
  {
   "cell_type": "code",
   "execution_count": 1,
   "metadata": {},
   "outputs": [],
   "source": [
    "import pandas as pd\n",
    "import numpy as np\n",
    "import seaborn as sns\n",
    "import matplotlib.pyplot as mtp\n",
    "import sklearn\n",
    "from scipy.stats import iqr"
   ]
  },
  {
   "cell_type": "code",
   "execution_count": 2,
   "metadata": {},
   "outputs": [
    {
     "data": {
      "text/html": [
       "<div>\n",
       "<style scoped>\n",
       "    .dataframe tbody tr th:only-of-type {\n",
       "        vertical-align: middle;\n",
       "    }\n",
       "\n",
       "    .dataframe tbody tr th {\n",
       "        vertical-align: top;\n",
       "    }\n",
       "\n",
       "    .dataframe thead th {\n",
       "        text-align: right;\n",
       "    }\n",
       "</style>\n",
       "<table border=\"1\" class=\"dataframe\">\n",
       "  <thead>\n",
       "    <tr style=\"text-align: right;\">\n",
       "      <th></th>\n",
       "      <th>S.NO</th>\n",
       "      <th>University Name</th>\n",
       "      <th>State</th>\n",
       "      <th>District</th>\n",
       "      <th>College description</th>\n",
       "      <th>College Link</th>\n",
       "      <th>Location Link</th>\n",
       "      <th>12th Percentage</th>\n",
       "      <th>Entrance Percentage</th>\n",
       "      <th>Ranking</th>\n",
       "      <th>Stream Rank</th>\n",
       "      <th>Department</th>\n",
       "      <th>Output</th>\n",
       "    </tr>\n",
       "  </thead>\n",
       "  <tbody>\n",
       "    <tr>\n",
       "      <th>0</th>\n",
       "      <td>1</td>\n",
       "      <td>Indira Gandhi National Open University</td>\n",
       "      <td>Delhi</td>\n",
       "      <td>New Delhi</td>\n",
       "      <td>Indira Gandhi National Open University (IGNOU)...</td>\n",
       "      <td>http://ignou.ac.in/</td>\n",
       "      <td>https://goo.gl/maps/SfsYq66L9xvvDFsbA</td>\n",
       "      <td>55</td>\n",
       "      <td>55</td>\n",
       "      <td>71</td>\n",
       "      <td>1</td>\n",
       "      <td>Computer Science and Engineering</td>\n",
       "      <td>Yes</td>\n",
       "    </tr>\n",
       "    <tr>\n",
       "      <th>1</th>\n",
       "      <td>2</td>\n",
       "      <td>Jamia Millia Islamia</td>\n",
       "      <td>Delhi</td>\n",
       "      <td>New Delhi</td>\n",
       "      <td>Jamia Millia Islamia (JMI) is a central univer...</td>\n",
       "      <td>https://www.jmi.ac.in/</td>\n",
       "      <td>https://goo.gl/maps/NCaytJGjbrEMc3WU8</td>\n",
       "      <td>50</td>\n",
       "      <td>50</td>\n",
       "      <td>3</td>\n",
       "      <td>2</td>\n",
       "      <td>Computer Science and Engineering</td>\n",
       "      <td>Yes</td>\n",
       "    </tr>\n",
       "    <tr>\n",
       "      <th>2</th>\n",
       "      <td>3</td>\n",
       "      <td>SRM Institute of Science and Technology</td>\n",
       "      <td>Tamil Nadu</td>\n",
       "      <td>Chennai</td>\n",
       "      <td>SRM Institute of Science and Technology (SRM I...</td>\n",
       "      <td>https://www.srmist.edu.in/</td>\n",
       "      <td>https://goo.gl/maps/z7BsZBg1coy96UdJ8</td>\n",
       "      <td>50</td>\n",
       "      <td>60</td>\n",
       "      <td>19</td>\n",
       "      <td>3</td>\n",
       "      <td>Computer Science and Engineering</td>\n",
       "      <td>Yes</td>\n",
       "    </tr>\n",
       "    <tr>\n",
       "      <th>3</th>\n",
       "      <td>4</td>\n",
       "      <td>Maharaja Sayajirao University of Baroda</td>\n",
       "      <td>Gujarat</td>\n",
       "      <td>Baroda</td>\n",
       "      <td>Maharaja Sayajirao University of Baroda is a p...</td>\n",
       "      <td>https://www.msubaroda.ac.in/</td>\n",
       "      <td>https://g.page/TheMSUB?share</td>\n",
       "      <td>40</td>\n",
       "      <td>50</td>\n",
       "      <td>90</td>\n",
       "      <td>4</td>\n",
       "      <td>Computer Science and Engineering</td>\n",
       "      <td>Yes</td>\n",
       "    </tr>\n",
       "    <tr>\n",
       "      <th>4</th>\n",
       "      <td>5</td>\n",
       "      <td>Vellore Institute of Technology</td>\n",
       "      <td>Tamil Nadu</td>\n",
       "      <td>Vellore</td>\n",
       "      <td>VIT admits bachelor students through its own e...</td>\n",
       "      <td>https://vit.ac.in/</td>\n",
       "      <td>https://goo.gl/maps/hgQD3vdarwFDZP1eA</td>\n",
       "      <td>55</td>\n",
       "      <td>55</td>\n",
       "      <td>9</td>\n",
       "      <td>5</td>\n",
       "      <td>Computer Science and Engineering</td>\n",
       "      <td>Yes</td>\n",
       "    </tr>\n",
       "  </tbody>\n",
       "</table>\n",
       "</div>"
      ],
      "text/plain": [
       "  S.NO                          University Name       State   District  \\\n",
       "0    1   Indira Gandhi National Open University       Delhi  New Delhi   \n",
       "1    2                     Jamia Millia Islamia       Delhi  New Delhi   \n",
       "2    3  SRM Institute of Science and Technology  Tamil Nadu    Chennai   \n",
       "3    4  Maharaja Sayajirao University of Baroda     Gujarat     Baroda   \n",
       "4    5          Vellore Institute of Technology  Tamil Nadu    Vellore   \n",
       "\n",
       "                                 College description  \\\n",
       "0  Indira Gandhi National Open University (IGNOU)...   \n",
       "1  Jamia Millia Islamia (JMI) is a central univer...   \n",
       "2  SRM Institute of Science and Technology (SRM I...   \n",
       "3  Maharaja Sayajirao University of Baroda is a p...   \n",
       "4  VIT admits bachelor students through its own e...   \n",
       "\n",
       "                   College Link                          Location Link  \\\n",
       "0           http://ignou.ac.in/  https://goo.gl/maps/SfsYq66L9xvvDFsbA   \n",
       "1        https://www.jmi.ac.in/  https://goo.gl/maps/NCaytJGjbrEMc3WU8   \n",
       "2    https://www.srmist.edu.in/  https://goo.gl/maps/z7BsZBg1coy96UdJ8   \n",
       "3  https://www.msubaroda.ac.in/           https://g.page/TheMSUB?share   \n",
       "4            https://vit.ac.in/  https://goo.gl/maps/hgQD3vdarwFDZP1eA   \n",
       "\n",
       "   12th Percentage  Entrance Percentage  Ranking  Stream Rank  \\\n",
       "0               55                   55       71            1   \n",
       "1               50                   50        3            2   \n",
       "2               50                   60       19            3   \n",
       "3               40                   50       90            4   \n",
       "4               55                   55        9            5   \n",
       "\n",
       "                         Department Output  \n",
       "0  Computer Science and Engineering    Yes  \n",
       "1  Computer Science and Engineering    Yes  \n",
       "2  Computer Science and Engineering    Yes  \n",
       "3  Computer Science and Engineering    Yes  \n",
       "4  Computer Science and Engineering    Yes  "
      ]
     },
     "execution_count": 2,
     "metadata": {},
     "output_type": "execute_result"
    }
   ],
   "source": [
    "df1 = pd.read_excel(\"Dataset.xlsx\")\n",
    "df1.head()"
   ]
  },
  {
   "cell_type": "code",
   "execution_count": 3,
   "metadata": {},
   "outputs": [
    {
     "data": {
      "text/html": [
       "<div>\n",
       "<style scoped>\n",
       "    .dataframe tbody tr th:only-of-type {\n",
       "        vertical-align: middle;\n",
       "    }\n",
       "\n",
       "    .dataframe tbody tr th {\n",
       "        vertical-align: top;\n",
       "    }\n",
       "\n",
       "    .dataframe thead th {\n",
       "        text-align: right;\n",
       "    }\n",
       "</style>\n",
       "<table border=\"1\" class=\"dataframe\">\n",
       "  <thead>\n",
       "    <tr style=\"text-align: right;\">\n",
       "      <th></th>\n",
       "      <th>S.NO</th>\n",
       "      <th>University Name</th>\n",
       "      <th>State</th>\n",
       "      <th>District</th>\n",
       "      <th>College description</th>\n",
       "      <th>College Link</th>\n",
       "      <th>Location Link</th>\n",
       "      <th>12th Percentage</th>\n",
       "      <th>Entrance Percentage</th>\n",
       "      <th>Ranking</th>\n",
       "      <th>Stream Rank</th>\n",
       "      <th>Department</th>\n",
       "      <th>Output</th>\n",
       "    </tr>\n",
       "  </thead>\n",
       "  <tbody>\n",
       "    <tr>\n",
       "      <th>0</th>\n",
       "      <td>1</td>\n",
       "      <td>Indira Gandhi National Open University</td>\n",
       "      <td>Delhi</td>\n",
       "      <td>New Delhi</td>\n",
       "      <td>Indira Gandhi National Open University (IGNOU)...</td>\n",
       "      <td>http://ignou.ac.in/</td>\n",
       "      <td>https://goo.gl/maps/SfsYq66L9xvvDFsbA</td>\n",
       "      <td>55</td>\n",
       "      <td>55</td>\n",
       "      <td>71</td>\n",
       "      <td>1</td>\n",
       "      <td>Computer Science and Engineering</td>\n",
       "      <td>Yes</td>\n",
       "    </tr>\n",
       "    <tr>\n",
       "      <th>1</th>\n",
       "      <td>2</td>\n",
       "      <td>Jamia Millia Islamia</td>\n",
       "      <td>Delhi</td>\n",
       "      <td>New Delhi</td>\n",
       "      <td>Jamia Millia Islamia (JMI) is a central univer...</td>\n",
       "      <td>https://www.jmi.ac.in/</td>\n",
       "      <td>https://goo.gl/maps/NCaytJGjbrEMc3WU8</td>\n",
       "      <td>50</td>\n",
       "      <td>50</td>\n",
       "      <td>3</td>\n",
       "      <td>2</td>\n",
       "      <td>Computer Science and Engineering</td>\n",
       "      <td>Yes</td>\n",
       "    </tr>\n",
       "    <tr>\n",
       "      <th>2</th>\n",
       "      <td>3</td>\n",
       "      <td>SRM Institute of Science and Technology</td>\n",
       "      <td>Tamil Nadu</td>\n",
       "      <td>Chennai</td>\n",
       "      <td>SRM Institute of Science and Technology (SRM I...</td>\n",
       "      <td>https://www.srmist.edu.in/</td>\n",
       "      <td>https://goo.gl/maps/z7BsZBg1coy96UdJ8</td>\n",
       "      <td>50</td>\n",
       "      <td>60</td>\n",
       "      <td>19</td>\n",
       "      <td>3</td>\n",
       "      <td>Computer Science and Engineering</td>\n",
       "      <td>Yes</td>\n",
       "    </tr>\n",
       "    <tr>\n",
       "      <th>3</th>\n",
       "      <td>4</td>\n",
       "      <td>Maharaja Sayajirao University of Baroda</td>\n",
       "      <td>Gujarat</td>\n",
       "      <td>Baroda</td>\n",
       "      <td>Maharaja Sayajirao University of Baroda is a p...</td>\n",
       "      <td>https://www.msubaroda.ac.in/</td>\n",
       "      <td>https://g.page/TheMSUB?share</td>\n",
       "      <td>40</td>\n",
       "      <td>50</td>\n",
       "      <td>90</td>\n",
       "      <td>4</td>\n",
       "      <td>Computer Science and Engineering</td>\n",
       "      <td>Yes</td>\n",
       "    </tr>\n",
       "    <tr>\n",
       "      <th>4</th>\n",
       "      <td>5</td>\n",
       "      <td>Vellore Institute of Technology</td>\n",
       "      <td>Tamil Nadu</td>\n",
       "      <td>Vellore</td>\n",
       "      <td>VIT admits bachelor students through its own e...</td>\n",
       "      <td>https://vit.ac.in/</td>\n",
       "      <td>https://goo.gl/maps/hgQD3vdarwFDZP1eA</td>\n",
       "      <td>55</td>\n",
       "      <td>55</td>\n",
       "      <td>9</td>\n",
       "      <td>5</td>\n",
       "      <td>Computer Science and Engineering</td>\n",
       "      <td>Yes</td>\n",
       "    </tr>\n",
       "  </tbody>\n",
       "</table>\n",
       "</div>"
      ],
      "text/plain": [
       "  S.NO                          University Name       State   District  \\\n",
       "0    1   Indira Gandhi National Open University       Delhi  New Delhi   \n",
       "1    2                     Jamia Millia Islamia       Delhi  New Delhi   \n",
       "2    3  SRM Institute of Science and Technology  Tamil Nadu    Chennai   \n",
       "3    4  Maharaja Sayajirao University of Baroda     Gujarat     Baroda   \n",
       "4    5          Vellore Institute of Technology  Tamil Nadu    Vellore   \n",
       "\n",
       "                                 College description  \\\n",
       "0  Indira Gandhi National Open University (IGNOU)...   \n",
       "1  Jamia Millia Islamia (JMI) is a central univer...   \n",
       "2  SRM Institute of Science and Technology (SRM I...   \n",
       "3  Maharaja Sayajirao University of Baroda is a p...   \n",
       "4  VIT admits bachelor students through its own e...   \n",
       "\n",
       "                   College Link                          Location Link  \\\n",
       "0           http://ignou.ac.in/  https://goo.gl/maps/SfsYq66L9xvvDFsbA   \n",
       "1        https://www.jmi.ac.in/  https://goo.gl/maps/NCaytJGjbrEMc3WU8   \n",
       "2    https://www.srmist.edu.in/  https://goo.gl/maps/z7BsZBg1coy96UdJ8   \n",
       "3  https://www.msubaroda.ac.in/           https://g.page/TheMSUB?share   \n",
       "4            https://vit.ac.in/  https://goo.gl/maps/hgQD3vdarwFDZP1eA   \n",
       "\n",
       "   12th Percentage  Entrance Percentage  Ranking  Stream Rank  \\\n",
       "0               55                   55       71            1   \n",
       "1               50                   50        3            2   \n",
       "2               50                   60       19            3   \n",
       "3               40                   50       90            4   \n",
       "4               55                   55        9            5   \n",
       "\n",
       "                         Department Output  \n",
       "0  Computer Science and Engineering    Yes  \n",
       "1  Computer Science and Engineering    Yes  \n",
       "2  Computer Science and Engineering    Yes  \n",
       "3  Computer Science and Engineering    Yes  \n",
       "4  Computer Science and Engineering    Yes  "
      ]
     },
     "execution_count": 3,
     "metadata": {},
     "output_type": "execute_result"
    }
   ],
   "source": [
    "df = df1\n",
    "df.head()"
   ]
  },
  {
   "cell_type": "code",
   "execution_count": 4,
   "metadata": {},
   "outputs": [
    {
     "data": {
      "text/plain": [
       "S.NO                   0\n",
       "University Name        0\n",
       "State                  0\n",
       "District               0\n",
       "College description    0\n",
       "College Link           0\n",
       "Location Link          0\n",
       "12th Percentage        0\n",
       "Entrance Percentage    0\n",
       "Ranking                0\n",
       "Stream Rank            0\n",
       "Department             0\n",
       "Output                 0\n",
       "dtype: int64"
      ]
     },
     "execution_count": 4,
     "metadata": {},
     "output_type": "execute_result"
    }
   ],
   "source": [
    "df.isnull().sum()"
   ]
  },
  {
   "cell_type": "code",
   "execution_count": 5,
   "metadata": {},
   "outputs": [
    {
     "data": {
      "text/html": [
       "<div>\n",
       "<style scoped>\n",
       "    .dataframe tbody tr th:only-of-type {\n",
       "        vertical-align: middle;\n",
       "    }\n",
       "\n",
       "    .dataframe tbody tr th {\n",
       "        vertical-align: top;\n",
       "    }\n",
       "\n",
       "    .dataframe thead th {\n",
       "        text-align: right;\n",
       "    }\n",
       "</style>\n",
       "<table border=\"1\" class=\"dataframe\">\n",
       "  <thead>\n",
       "    <tr style=\"text-align: right;\">\n",
       "      <th></th>\n",
       "      <th>12th Percentage</th>\n",
       "      <th>Entrance Percentage</th>\n",
       "      <th>Ranking</th>\n",
       "      <th>Stream Rank</th>\n",
       "    </tr>\n",
       "  </thead>\n",
       "  <tbody>\n",
       "    <tr>\n",
       "      <th>count</th>\n",
       "      <td>466.000000</td>\n",
       "      <td>466.000000</td>\n",
       "      <td>466.000000</td>\n",
       "      <td>466.000000</td>\n",
       "    </tr>\n",
       "    <tr>\n",
       "      <th>mean</th>\n",
       "      <td>47.064378</td>\n",
       "      <td>55.789700</td>\n",
       "      <td>56.843348</td>\n",
       "      <td>10.607296</td>\n",
       "    </tr>\n",
       "    <tr>\n",
       "      <th>std</th>\n",
       "      <td>20.892354</td>\n",
       "      <td>8.905404</td>\n",
       "      <td>45.423445</td>\n",
       "      <td>5.719451</td>\n",
       "    </tr>\n",
       "    <tr>\n",
       "      <th>min</th>\n",
       "      <td>0.000000</td>\n",
       "      <td>40.000000</td>\n",
       "      <td>1.000000</td>\n",
       "      <td>1.000000</td>\n",
       "    </tr>\n",
       "    <tr>\n",
       "      <th>25%</th>\n",
       "      <td>33.000000</td>\n",
       "      <td>50.000000</td>\n",
       "      <td>15.000000</td>\n",
       "      <td>6.000000</td>\n",
       "    </tr>\n",
       "    <tr>\n",
       "      <th>50%</th>\n",
       "      <td>45.500000</td>\n",
       "      <td>55.000000</td>\n",
       "      <td>47.000000</td>\n",
       "      <td>11.000000</td>\n",
       "    </tr>\n",
       "    <tr>\n",
       "      <th>75%</th>\n",
       "      <td>60.000000</td>\n",
       "      <td>60.000000</td>\n",
       "      <td>90.000000</td>\n",
       "      <td>15.000000</td>\n",
       "    </tr>\n",
       "    <tr>\n",
       "      <th>max</th>\n",
       "      <td>100.000000</td>\n",
       "      <td>80.000000</td>\n",
       "      <td>160.000000</td>\n",
       "      <td>20.000000</td>\n",
       "    </tr>\n",
       "  </tbody>\n",
       "</table>\n",
       "</div>"
      ],
      "text/plain": [
       "       12th Percentage  Entrance Percentage     Ranking  Stream Rank\n",
       "count       466.000000           466.000000  466.000000   466.000000\n",
       "mean         47.064378            55.789700   56.843348    10.607296\n",
       "std          20.892354             8.905404   45.423445     5.719451\n",
       "min           0.000000            40.000000    1.000000     1.000000\n",
       "25%          33.000000            50.000000   15.000000     6.000000\n",
       "50%          45.500000            55.000000   47.000000    11.000000\n",
       "75%          60.000000            60.000000   90.000000    15.000000\n",
       "max         100.000000            80.000000  160.000000    20.000000"
      ]
     },
     "execution_count": 5,
     "metadata": {},
     "output_type": "execute_result"
    }
   ],
   "source": [
    "df.describe()"
   ]
  },
  {
   "cell_type": "markdown",
   "metadata": {},
   "source": [
    "# Univariate Analysis"
   ]
  },
  {
   "cell_type": "code",
   "execution_count": 6,
   "metadata": {},
   "outputs": [
    {
     "name": "stderr",
     "output_type": "stream",
     "text": [
      "C:\\Users\\sundaram\\anaconda3\\lib\\site-packages\\seaborn\\distributions.py:2619: FutureWarning: `distplot` is a deprecated function and will be removed in a future version. Please adapt your code to use either `displot` (a figure-level function with similar flexibility) or `histplot` (an axes-level function for histograms).\n",
      "  warnings.warn(msg, FutureWarning)\n"
     ]
    },
    {
     "data": {
      "text/plain": [
       "<AxesSubplot:xlabel='12th Percentage', ylabel='Density'>"
      ]
     },
     "execution_count": 6,
     "metadata": {},
     "output_type": "execute_result"
    },
    {
     "data": {
      "image/png": "[encoded data removed]",
      "text/plain": [
       "<Figure size 432x288 with 1 Axes>"
      ]
     },
     "metadata": {
      "needs_background": "light"
     },
     "output_type": "display_data"
    }
   ],
   "source": [
    "sns.distplot(df['12th Percentage'])  #univariate"
   ]
  },
  {
   "cell_type": "markdown",
   "metadata": {},
   "source": [
    "# Bivariate Analysis\n"
   ]
  },
  {
   "cell_type": "code",
   "execution_count": 7,
   "metadata": {},
   "outputs": [
    {
     "name": "stderr",
     "output_type": "stream",
     "text": [
      "C:\\Users\\sundaram\\anaconda3\\lib\\site-packages\\seaborn\\_decorators.py:36: FutureWarning: Pass the following variables as keyword args: x, y. From version 0.12, the only valid positional argument will be `data`, and passing other arguments without an explicit keyword will result in an error or misinterpretation.\n",
      "  warnings.warn(\n"
     ]
    },
    {
     "data": {
      "text/plain": [
       "<AxesSubplot:xlabel='Ranking', ylabel='Entrance Percentage'>"
      ]
     },
     "execution_count": 7,
     "metadata": {},
     "output_type": "execute_result"
    },
    {
     "data": {
      "image/png": "[encoded data removed]",
      "text/plain": [
       "<Figure size 432x288 with 1 Axes>"
      ]
     },
     "metadata": {
      "needs_background": "light"
     },
     "output_type": "display_data"
    }
   ],
   "source": [
    "sns.lineplot(df['Ranking'],df['Entrance Percentage'])   #bivariate"
   ]
  },
  {
   "cell_type": "code",
   "execution_count": 8,
   "metadata": {},
   "outputs": [
    {
     "name": "stderr",
     "output_type": "stream",
     "text": [
      "C:\\Users\\sundaram\\anaconda3\\lib\\site-packages\\seaborn\\_decorators.py:36: FutureWarning: Pass the following variables as keyword args: x, y. From version 0.12, the only valid positional argument will be `data`, and passing other arguments without an explicit keyword will result in an error or misinterpretation.\n",
      "  warnings.warn(\n"
     ]
    },
    {
     "data": {
      "text/plain": [
       "<AxesSubplot:xlabel='Ranking', ylabel='Entrance Percentage'>"
      ]
     },
     "execution_count": 8,
     "metadata": {},
     "output_type": "execute_result"
    },
    {
     "data": {
      "image/png": "[encoded data removed]",
      "text/plain": [
       "<Figure size 432x288 with 1 Axes>"
      ]
     },
     "metadata": {
      "needs_background": "light"
     },
     "output_type": "display_data"
    }
   ],
   "source": [
    "sns.pointplot(df['Ranking'],df['Entrance Percentage'])"
   ]
  },
  {
   "cell_type": "markdown",
   "metadata": {},
   "source": [
    "# Multi variate Analysis\n"
   ]
  },
  {
   "cell_type": "code",
   "execution_count": 9,
   "metadata": {},
   "outputs": [
    {
     "name": "stderr",
     "output_type": "stream",
     "text": [
      "C:\\Users\\sundaram\\anaconda3\\lib\\site-packages\\seaborn\\_decorators.py:36: FutureWarning: Pass the following variables as keyword args: x, y. From version 0.12, the only valid positional argument will be `data`, and passing other arguments without an explicit keyword will result in an error or misinterpretation.\n",
      "  warnings.warn(\n"
     ]
    },
    {
     "data": {
      "text/plain": [
       "<AxesSubplot:xlabel='Entrance Percentage', ylabel='Ranking'>"
      ]
     },
     "execution_count": 9,
     "metadata": {},
     "output_type": "execute_result"
    },
    {
     "data": {
      "image/png": "[encoded data removed]",
      "text/plain": [
       "<Figure size 432x288 with 1 Axes>"
      ]
     },
     "metadata": {
      "needs_background": "light"
     },
     "output_type": "display_data"
    }
   ],
   "source": [
    "sns.scatterplot(df['Entrance Percentage'],df['Ranking'],hue = df['12th Percentage'])   #multi variate"
   ]
  },
  {
   "cell_type": "markdown",
   "metadata": {},
   "source": [
    "# Descriptive Statistics\n"
   ]
  },
  {
   "cell_type": "code",
   "execution_count": 10,
   "metadata": {},
   "outputs": [
    {
     "name": "stderr",
     "output_type": "stream",
     "text": [
      "C:\\Users\\sundaram\\AppData\\Local\\Temp\\ipykernel_16608\\3698961737.py:1: FutureWarning: Dropping of nuisance columns in DataFrame reductions (with 'numeric_only=None') is deprecated; in a future version this will raise TypeError.  Select only valid columns before calling the reduction.\n",
      "  df.mean()\n"
     ]
    },
    {
     "data": {
      "text/plain": [
       "12th Percentage        47.064378\n",
       "Entrance Percentage    55.789700\n",
       "Ranking                56.843348\n",
       "Stream Rank            10.607296\n",
       "dtype: float64"
      ]
     },
     "execution_count": 10,
     "metadata": {},
     "output_type": "execute_result"
    }
   ],
   "source": [
    "df.mean()"
   ]
  },
  {
   "cell_type": "code",
   "execution_count": 11,
   "metadata": {},
   "outputs": [
    {
     "name": "stderr",
     "output_type": "stream",
     "text": [
      "C:\\Users\\sundaram\\AppData\\Local\\Temp\\ipykernel_16608\\530051474.py:1: FutureWarning: Dropping of nuisance columns in DataFrame reductions (with 'numeric_only=None') is deprecated; in a future version this will raise TypeError.  Select only valid columns before calling the reduction.\n",
      "  df.median()\n"
     ]
    },
    {
     "data": {
      "text/plain": [
       "12th Percentage        45.5\n",
       "Entrance Percentage    55.0\n",
       "Ranking                47.0\n",
       "Stream Rank            11.0\n",
       "dtype: float64"
      ]
     },
     "execution_count": 11,
     "metadata": {},
     "output_type": "execute_result"
    }
   ],
   "source": [
    "df.median()"
   ]
  },
  {
   "cell_type": "code",
   "execution_count": 12,
   "metadata": {},
   "outputs": [
    {
     "name": "stderr",
     "output_type": "stream",
     "text": [
      "C:\\Users\\sundaram\\anaconda3\\lib\\site-packages\\pandas\\core\\algorithms.py:968: UserWarning: Unable to sort modes: '<' not supported between instances of 'str' and 'int'\n",
      "  warn(f\"Unable to sort modes: {err}\")\n"
     ]
    },
    {
     "data": {
      "text/html": [
       "<div>\n",
       "<style scoped>\n",
       "    .dataframe tbody tr th:only-of-type {\n",
       "        vertical-align: middle;\n",
       "    }\n",
       "\n",
       "    .dataframe tbody tr th {\n",
       "        vertical-align: top;\n",
       "    }\n",
       "\n",
       "    .dataframe thead th {\n",
       "        text-align: right;\n",
       "    }\n",
       "</style>\n",
       "<table border=\"1\" class=\"dataframe\">\n",
       "  <thead>\n",
       "    <tr style=\"text-align: right;\">\n",
       "      <th></th>\n",
       "      <th>S.NO</th>\n",
       "      <th>University Name</th>\n",
       "      <th>State</th>\n",
       "      <th>District</th>\n",
       "      <th>College description</th>\n",
       "      <th>College Link</th>\n",
       "      <th>Location Link</th>\n",
       "      <th>12th Percentage</th>\n",
       "      <th>Entrance Percentage</th>\n",
       "      <th>Ranking</th>\n",
       "      <th>Stream Rank</th>\n",
       "      <th>Department</th>\n",
       "      <th>Output</th>\n",
       "    </tr>\n",
       "  </thead>\n",
       "  <tbody>\n",
       "    <tr>\n",
       "      <th>0</th>\n",
       "      <td>1</td>\n",
       "      <td>National Institute of Technology Tiruchirappalli</td>\n",
       "      <td>Tamil Nadu</td>\n",
       "      <td>New Delhi</td>\n",
       "      <td>SRM Institute of Science and Technology (SRM I...</td>\n",
       "      <td>https://www.srmist.edu.in/</td>\n",
       "      <td>https://goo.gl/maps/z7BsZBg1coy96UdJ8</td>\n",
       "      <td>50.0</td>\n",
       "      <td>55.0</td>\n",
       "      <td>47.0</td>\n",
       "      <td>11.0</td>\n",
       "      <td>Electronics and Communication Engineering</td>\n",
       "      <td>No</td>\n",
       "    </tr>\n",
       "    <tr>\n",
       "      <th>1</th>\n",
       "      <td>2</td>\n",
       "      <td>NaN</td>\n",
       "      <td>NaN</td>\n",
       "      <td>NaN</td>\n",
       "      <td>NaN</td>\n",
       "      <td>NaN</td>\n",
       "      <td>NaN</td>\n",
       "      <td>NaN</td>\n",
       "      <td>NaN</td>\n",
       "      <td>NaN</td>\n",
       "      <td>NaN</td>\n",
       "      <td>NaN</td>\n",
       "      <td>Yes</td>\n",
       "    </tr>\n",
       "    <tr>\n",
       "      <th>2</th>\n",
       "      <td>3</td>\n",
       "      <td>NaN</td>\n",
       "      <td>NaN</td>\n",
       "      <td>NaN</td>\n",
       "      <td>NaN</td>\n",
       "      <td>NaN</td>\n",
       "      <td>NaN</td>\n",
       "      <td>NaN</td>\n",
       "      <td>NaN</td>\n",
       "      <td>NaN</td>\n",
       "      <td>NaN</td>\n",
       "      <td>NaN</td>\n",
       "      <td>NaN</td>\n",
       "    </tr>\n",
       "    <tr>\n",
       "      <th>3</th>\n",
       "      <td>4</td>\n",
       "      <td>NaN</td>\n",
       "      <td>NaN</td>\n",
       "      <td>NaN</td>\n",
       "      <td>NaN</td>\n",
       "      <td>NaN</td>\n",
       "      <td>NaN</td>\n",
       "      <td>NaN</td>\n",
       "      <td>NaN</td>\n",
       "      <td>NaN</td>\n",
       "      <td>NaN</td>\n",
       "      <td>NaN</td>\n",
       "      <td>NaN</td>\n",
       "    </tr>\n",
       "    <tr>\n",
       "      <th>4</th>\n",
       "      <td>5</td>\n",
       "      <td>NaN</td>\n",
       "      <td>NaN</td>\n",
       "      <td>NaN</td>\n",
       "      <td>NaN</td>\n",
       "      <td>NaN</td>\n",
       "      <td>NaN</td>\n",
       "      <td>NaN</td>\n",
       "      <td>NaN</td>\n",
       "      <td>NaN</td>\n",
       "      <td>NaN</td>\n",
       "      <td>NaN</td>\n",
       "      <td>NaN</td>\n",
       "    </tr>\n",
       "    <tr>\n",
       "      <th>...</th>\n",
       "      <td>...</td>\n",
       "      <td>...</td>\n",
       "      <td>...</td>\n",
       "      <td>...</td>\n",
       "      <td>...</td>\n",
       "      <td>...</td>\n",
       "      <td>...</td>\n",
       "      <td>...</td>\n",
       "      <td>...</td>\n",
       "      <td>...</td>\n",
       "      <td>...</td>\n",
       "      <td>...</td>\n",
       "      <td>...</td>\n",
       "    </tr>\n",
       "    <tr>\n",
       "      <th>461</th>\n",
       "      <td>462</td>\n",
       "      <td>NaN</td>\n",
       "      <td>NaN</td>\n",
       "      <td>NaN</td>\n",
       "      <td>NaN</td>\n",
       "      <td>NaN</td>\n",
       "      <td>NaN</td>\n",
       "      <td>NaN</td>\n",
       "      <td>NaN</td>\n",
       "      <td>NaN</td>\n",
       "      <td>NaN</td>\n",
       "      <td>NaN</td>\n",
       "      <td>NaN</td>\n",
       "    </tr>\n",
       "    <tr>\n",
       "      <th>462</th>\n",
       "      <td>463</td>\n",
       "      <td>NaN</td>\n",
       "      <td>NaN</td>\n",
       "      <td>NaN</td>\n",
       "      <td>NaN</td>\n",
       "      <td>NaN</td>\n",
       "      <td>NaN</td>\n",
       "      <td>NaN</td>\n",
       "      <td>NaN</td>\n",
       "      <td>NaN</td>\n",
       "      <td>NaN</td>\n",
       "      <td>NaN</td>\n",
       "      <td>NaN</td>\n",
       "    </tr>\n",
       "    <tr>\n",
       "      <th>463</th>\n",
       "      <td>464</td>\n",
       "      <td>NaN</td>\n",
       "      <td>NaN</td>\n",
       "      <td>NaN</td>\n",
       "      <td>NaN</td>\n",
       "      <td>NaN</td>\n",
       "      <td>NaN</td>\n",
       "      <td>NaN</td>\n",
       "      <td>NaN</td>\n",
       "      <td>NaN</td>\n",
       "      <td>NaN</td>\n",
       "      <td>NaN</td>\n",
       "      <td>NaN</td>\n",
       "    </tr>\n",
       "    <tr>\n",
       "      <th>464</th>\n",
       "      <td>467</td>\n",
       "      <td>NaN</td>\n",
       "      <td>NaN</td>\n",
       "      <td>NaN</td>\n",
       "      <td>NaN</td>\n",
       "      <td>NaN</td>\n",
       "      <td>NaN</td>\n",
       "      <td>NaN</td>\n",
       "      <td>NaN</td>\n",
       "      <td>NaN</td>\n",
       "      <td>NaN</td>\n",
       "      <td>NaN</td>\n",
       "      <td>NaN</td>\n",
       "    </tr>\n",
       "    <tr>\n",
       "      <th>465</th>\n",
       "      <td>466</td>\n",
       "      <td>NaN</td>\n",
       "      <td>NaN</td>\n",
       "      <td>NaN</td>\n",
       "      <td>NaN</td>\n",
       "      <td>NaN</td>\n",
       "      <td>NaN</td>\n",
       "      <td>NaN</td>\n",
       "      <td>NaN</td>\n",
       "      <td>NaN</td>\n",
       "      <td>NaN</td>\n",
       "      <td>NaN</td>\n",
       "      <td>NaN</td>\n",
       "    </tr>\n",
       "  </tbody>\n",
       "</table>\n",
       "<p>466 rows × 13 columns</p>\n",
       "</div>"
      ],
      "text/plain": [
       "    S.NO                                   University Name       State  \\\n",
       "0      1  National Institute of Technology Tiruchirappalli  Tamil Nadu   \n",
       "1      2                                               NaN         NaN   \n",
       "2      3                                               NaN         NaN   \n",
       "3      4                                               NaN         NaN   \n",
       "4      5                                               NaN         NaN   \n",
       "..   ...                                               ...         ...   \n",
       "461  462                                               NaN         NaN   \n",
       "462  463                                               NaN         NaN   \n",
       "463  464                                               NaN         NaN   \n",
       "464  467                                               NaN         NaN   \n",
       "465  466                                               NaN         NaN   \n",
       "\n",
       "      District                                College description  \\\n",
       "0    New Delhi  SRM Institute of Science and Technology (SRM I...   \n",
       "1          NaN                                                NaN   \n",
       "2          NaN                                                NaN   \n",
       "3          NaN                                                NaN   \n",
       "4          NaN                                                NaN   \n",
       "..         ...                                                ...   \n",
       "461        NaN                                                NaN   \n",
       "462        NaN                                                NaN   \n",
       "463        NaN                                                NaN   \n",
       "464        NaN                                                NaN   \n",
       "465        NaN                                                NaN   \n",
       "\n",
       "                   College Link                          Location Link  \\\n",
       "0    https://www.srmist.edu.in/  https://goo.gl/maps/z7BsZBg1coy96UdJ8   \n",
       "1                           NaN                                    NaN   \n",
       "2                           NaN                                    NaN   \n",
       "3                           NaN                                    NaN   \n",
       "4                           NaN                                    NaN   \n",
       "..                          ...                                    ...   \n",
       "461                         NaN                                    NaN   \n",
       "462                         NaN                                    NaN   \n",
       "463                         NaN                                    NaN   \n",
       "464                         NaN                                    NaN   \n",
       "465                         NaN                                    NaN   \n",
       "\n",
       "     12th Percentage  Entrance Percentage  Ranking  Stream Rank  \\\n",
       "0               50.0                 55.0     47.0         11.0   \n",
       "1                NaN                  NaN      NaN          NaN   \n",
       "2                NaN                  NaN      NaN          NaN   \n",
       "3                NaN                  NaN      NaN          NaN   \n",
       "4                NaN                  NaN      NaN          NaN   \n",
       "..               ...                  ...      ...          ...   \n",
       "461              NaN                  NaN      NaN          NaN   \n",
       "462              NaN                  NaN      NaN          NaN   \n",
       "463              NaN                  NaN      NaN          NaN   \n",
       "464              NaN                  NaN      NaN          NaN   \n",
       "465              NaN                  NaN      NaN          NaN   \n",
       "\n",
       "                                    Department Output  \n",
       "0    Electronics and Communication Engineering     No  \n",
       "1                                          NaN    Yes  \n",
       "2                                          NaN    NaN  \n",
       "3                                          NaN    NaN  \n",
       "4                                          NaN    NaN  \n",
       "..                                         ...    ...  \n",
       "461                                        NaN    NaN  \n",
       "462                                        NaN    NaN  \n",
       "463                                        NaN    NaN  \n",
       "464                                        NaN    NaN  \n",
       "465                                        NaN    NaN  \n",
       "\n",
       "[466 rows x 13 columns]"
      ]
     },
     "execution_count": 12,
     "metadata": {},
     "output_type": "execute_result"
    }
   ],
   "source": [
    "df.mode()"
   ]
  },
  {
   "cell_type": "code",
   "execution_count": 13,
   "metadata": {},
   "outputs": [
    {
     "name": "stderr",
     "output_type": "stream",
     "text": [
      "C:\\Users\\sundaram\\AppData\\Local\\Temp\\ipykernel_16608\\1568254755.py:1: FutureWarning: Dropping of nuisance columns in DataFrame reductions (with 'numeric_only=None') is deprecated; in a future version this will raise TypeError.  Select only valid columns before calling the reduction.\n",
      "  df.var()\n"
     ]
    },
    {
     "data": {
      "text/plain": [
       "12th Percentage         436.490470\n",
       "Entrance Percentage      79.306216\n",
       "Ranking                2063.289386\n",
       "Stream Rank              32.712119\n",
       "dtype: float64"
      ]
     },
     "execution_count": 13,
     "metadata": {},
     "output_type": "execute_result"
    }
   ],
   "source": [
    "df.var()"
   ]
  },
  {
   "cell_type": "code",
   "execution_count": 14,
   "metadata": {},
   "outputs": [
    {
     "name": "stderr",
     "output_type": "stream",
     "text": [
      "C:\\Users\\sundaram\\AppData\\Local\\Temp\\ipykernel_16608\\3390915376.py:1: FutureWarning: Dropping of nuisance columns in DataFrame reductions (with 'numeric_only=None') is deprecated; in a future version this will raise TypeError.  Select only valid columns before calling the reduction.\n",
      "  df.std()\n"
     ]
    },
    {
     "data": {
      "text/plain": [
       "12th Percentage        20.892354\n",
       "Entrance Percentage     8.905404\n",
       "Ranking                45.423445\n",
       "Stream Rank             5.719451\n",
       "dtype: float64"
      ]
     },
     "execution_count": 14,
     "metadata": {},
     "output_type": "execute_result"
    }
   ],
   "source": [
    "df.std()"
   ]
  },
  {
   "cell_type": "code",
   "execution_count": 15,
   "metadata": {},
   "outputs": [
    {
     "name": "stderr",
     "output_type": "stream",
     "text": [
      "C:\\Users\\sundaram\\AppData\\Local\\Temp\\ipykernel_16608\\3962516015.py:1: FutureWarning: Dropping of nuisance columns in DataFrame reductions (with 'numeric_only=None') is deprecated; in a future version this will raise TypeError.  Select only valid columns before calling the reduction.\n",
      "  df.min()\n"
     ]
    },
    {
     "data": {
      "text/plain": [
       "University Name                           Lovely Professional University\n",
       "State                                                          Karnataka\n",
       "District                                                       Bangalore\n",
       "College description    Aligarh Muslim University (AMU) is one of Indi...\n",
       "College Link                                         http://ignou.ac.in/\n",
       "Location Link                         https://g.page/ChandigarhUni?share\n",
       "12th Percentage                                                        0\n",
       "Entrance Percentage                                                   40\n",
       "Ranking                                                                1\n",
       "Stream Rank                                                            1\n",
       "Department                                             Civil Engineering\n",
       "Output                                                                No\n",
       "dtype: object"
      ]
     },
     "execution_count": 15,
     "metadata": {},
     "output_type": "execute_result"
    }
   ],
   "source": [
    "df.min()"
   ]
  },
  {
   "cell_type": "code",
   "execution_count": 16,
   "metadata": {},
   "outputs": [
    {
     "data": {
      "text/html": [
       "<div>\n",
       "<style scoped>\n",
       "    .dataframe tbody tr th:only-of-type {\n",
       "        vertical-align: middle;\n",
       "    }\n",
       "\n",
       "    .dataframe tbody tr th {\n",
       "        vertical-align: top;\n",
       "    }\n",
       "\n",
       "    .dataframe thead th {\n",
       "        text-align: right;\n",
       "    }\n",
       "</style>\n",
       "<table border=\"1\" class=\"dataframe\">\n",
       "  <thead>\n",
       "    <tr style=\"text-align: right;\">\n",
       "      <th></th>\n",
       "      <th>12th Percentage</th>\n",
       "      <th>Entrance Percentage</th>\n",
       "      <th>Ranking</th>\n",
       "      <th>Stream Rank</th>\n",
       "    </tr>\n",
       "  </thead>\n",
       "  <tbody>\n",
       "    <tr>\n",
       "      <th>0.75</th>\n",
       "      <td>60.0</td>\n",
       "      <td>60.0</td>\n",
       "      <td>90.0</td>\n",
       "      <td>15.0</td>\n",
       "    </tr>\n",
       "    <tr>\n",
       "      <th>0.25</th>\n",
       "      <td>33.0</td>\n",
       "      <td>50.0</td>\n",
       "      <td>15.0</td>\n",
       "      <td>6.0</td>\n",
       "    </tr>\n",
       "  </tbody>\n",
       "</table>\n",
       "</div>"
      ],
      "text/plain": [
       "      12th Percentage  Entrance Percentage  Ranking  Stream Rank\n",
       "0.75             60.0                 60.0     90.0         15.0\n",
       "0.25             33.0                 50.0     15.0          6.0"
      ]
     },
     "execution_count": 16,
     "metadata": {},
     "output_type": "execute_result"
    }
   ],
   "source": [
    "q = df.quantile([0.75,0.25])\n",
    "q"
   ]
  },
  {
   "cell_type": "code",
   "execution_count": 17,
   "metadata": {},
   "outputs": [
    {
     "data": {
      "text/plain": [
       "12th Percentage        27.0\n",
       "Entrance Percentage    10.0\n",
       "Ranking                75.0\n",
       "Stream Rank             9.0\n",
       "dtype: float64"
      ]
     },
     "execution_count": 17,
     "metadata": {},
     "output_type": "execute_result"
    }
   ],
   "source": [
    "iqr = q.iloc[0] - q.iloc[1]  \n",
    "iqr"
   ]
  },
  {
   "cell_type": "code",
   "execution_count": 18,
   "metadata": {},
   "outputs": [
    {
     "data": {
      "text/plain": [
       "12th Percentage        100.5\n",
       "Entrance Percentage     75.0\n",
       "Ranking                202.5\n",
       "Stream Rank             28.5\n",
       "dtype: float64"
      ]
     },
     "execution_count": 18,
     "metadata": {},
     "output_type": "execute_result"
    }
   ],
   "source": [
    "u = q.iloc[0] + (1.5 *iqr)  \n",
    "u "
   ]
  },
  {
   "cell_type": "code",
   "execution_count": 19,
   "metadata": {},
   "outputs": [
    {
     "data": {
      "text/plain": [
       "12th Percentage        -7.5\n",
       "Entrance Percentage    35.0\n",
       "Ranking               -97.5\n",
       "Stream Rank            -7.5\n",
       "dtype: float64"
      ]
     },
     "execution_count": 19,
     "metadata": {},
     "output_type": "execute_result"
    }
   ],
   "source": [
    "l = q.iloc[1] - (1.5*iqr)  \n",
    "l"
   ]
  },
  {
   "cell_type": "code",
   "execution_count": 20,
   "metadata": {},
   "outputs": [
    {
     "name": "stdout",
     "output_type": "stream",
     "text": [
      "12th Percentage        0.294850\n",
      "Entrance Percentage    0.538389\n",
      "Ranking                0.823431\n",
      "Stream Rank           -0.041978\n",
      "dtype: float64\n"
     ]
    },
    {
     "name": "stderr",
     "output_type": "stream",
     "text": [
      "C:\\Users\\sundaram\\AppData\\Local\\Temp\\ipykernel_16608\\3212328798.py:1: FutureWarning: Dropping of nuisance columns in DataFrame reductions (with 'numeric_only=None') is deprecated; in a future version this will raise TypeError.  Select only valid columns before calling the reduction.\n",
      "  print(df.skew())\n"
     ]
    }
   ],
   "source": [
    "print(df.skew())\n"
   ]
  },
  {
   "cell_type": "markdown",
   "metadata": {},
   "source": [
    "# outliers\n"
   ]
  },
  {
   "cell_type": "code",
   "execution_count": 21,
   "metadata": {},
   "outputs": [
    {
     "name": "stderr",
     "output_type": "stream",
     "text": [
      "C:\\Users\\sundaram\\anaconda3\\lib\\site-packages\\seaborn\\_decorators.py:36: FutureWarning: Pass the following variable as a keyword arg: x. From version 0.12, the only valid positional argument will be `data`, and passing other arguments without an explicit keyword will result in an error or misinterpretation.\n",
      "  warnings.warn(\n"
     ]
    },
    {
     "data": {
      "text/plain": [
       "<AxesSubplot:xlabel='Entrance Percentage'>"
      ]
     },
     "execution_count": 21,
     "metadata": {},
     "output_type": "execute_result"
    },
    {
     "data": {
      "image/png": "[encoded data removed]",
      "text/plain": [
       "<Figure size 432x288 with 1 Axes>"
      ]
     },
     "metadata": {
      "needs_background": "light"
     },
     "output_type": "display_data"
    }
   ],
   "source": [
    "sns.boxplot(df['Entrance Percentage'])    "
   ]
  },
  {
   "cell_type": "markdown",
   "metadata": {},
   "source": [
    "# handling outliers"
   ]
  },
  {
   "cell_type": "code",
   "execution_count": 22,
   "metadata": {},
   "outputs": [],
   "source": [
    "df['Entrance Percentage'] = np.where(df['Entrance Percentage'] >70,40,df['Entrance Percentage'])"
   ]
  },
  {
   "cell_type": "code",
   "execution_count": 23,
   "metadata": {},
   "outputs": [
    {
     "name": "stderr",
     "output_type": "stream",
     "text": [
      "C:\\Users\\sundaram\\anaconda3\\lib\\site-packages\\seaborn\\_decorators.py:36: FutureWarning: Pass the following variable as a keyword arg: x. From version 0.12, the only valid positional argument will be `data`, and passing other arguments without an explicit keyword will result in an error or misinterpretation.\n",
      "  warnings.warn(\n"
     ]
    },
    {
     "data": {
      "text/plain": [
       "<AxesSubplot:xlabel='Entrance Percentage'>"
      ]
     },
     "execution_count": 23,
     "metadata": {},
     "output_type": "execute_result"
    },
    {
     "data": {
      "image/png": "[encoded data removed]",
      "text/plain": [
       "<Figure size 432x288 with 1 Axes>"
      ]
     },
     "metadata": {
      "needs_background": "light"
     },
     "output_type": "display_data"
    }
   ],
   "source": [
    "sns.boxplot(df['Entrance Percentage'])"
   ]
  },
  {
   "cell_type": "markdown",
   "metadata": {},
   "source": [
    "# Encoding"
   ]
  },
  {
   "cell_type": "code",
   "execution_count": 24,
   "metadata": {},
   "outputs": [],
   "source": [
    "from sklearn.preprocessing import LabelEncoder"
   ]
  },
  {
   "cell_type": "code",
   "execution_count": 25,
   "metadata": {},
   "outputs": [],
   "source": [
    "le = LabelEncoder()  "
   ]
  },
  {
   "cell_type": "code",
   "execution_count": 26,
   "metadata": {},
   "outputs": [
    {
     "data": {
      "text/html": [
       "<div>\n",
       "<style scoped>\n",
       "    .dataframe tbody tr th:only-of-type {\n",
       "        vertical-align: middle;\n",
       "    }\n",
       "\n",
       "    .dataframe tbody tr th {\n",
       "        vertical-align: top;\n",
       "    }\n",
       "\n",
       "    .dataframe thead th {\n",
       "        text-align: right;\n",
       "    }\n",
       "</style>\n",
       "<table border=\"1\" class=\"dataframe\">\n",
       "  <thead>\n",
       "    <tr style=\"text-align: right;\">\n",
       "      <th></th>\n",
       "      <th>University Name</th>\n",
       "      <th>State</th>\n",
       "      <th>District</th>\n",
       "      <th>12th Percentage</th>\n",
       "      <th>Entrance Percentage</th>\n",
       "      <th>Stream Rank</th>\n",
       "      <th>Department</th>\n",
       "      <th>Output</th>\n",
       "    </tr>\n",
       "  </thead>\n",
       "  <tbody>\n",
       "    <tr>\n",
       "      <th>0</th>\n",
       "      <td>Indira Gandhi National Open University</td>\n",
       "      <td>Delhi</td>\n",
       "      <td>New Delhi</td>\n",
       "      <td>55</td>\n",
       "      <td>55</td>\n",
       "      <td>1</td>\n",
       "      <td>Computer Science and Engineering</td>\n",
       "      <td>Yes</td>\n",
       "    </tr>\n",
       "    <tr>\n",
       "      <th>1</th>\n",
       "      <td>Jamia Millia Islamia</td>\n",
       "      <td>Delhi</td>\n",
       "      <td>New Delhi</td>\n",
       "      <td>50</td>\n",
       "      <td>50</td>\n",
       "      <td>2</td>\n",
       "      <td>Computer Science and Engineering</td>\n",
       "      <td>Yes</td>\n",
       "    </tr>\n",
       "    <tr>\n",
       "      <th>2</th>\n",
       "      <td>SRM Institute of Science and Technology</td>\n",
       "      <td>Tamil Nadu</td>\n",
       "      <td>Chennai</td>\n",
       "      <td>50</td>\n",
       "      <td>60</td>\n",
       "      <td>3</td>\n",
       "      <td>Computer Science and Engineering</td>\n",
       "      <td>Yes</td>\n",
       "    </tr>\n",
       "    <tr>\n",
       "      <th>3</th>\n",
       "      <td>Maharaja Sayajirao University of Baroda</td>\n",
       "      <td>Gujarat</td>\n",
       "      <td>Baroda</td>\n",
       "      <td>40</td>\n",
       "      <td>50</td>\n",
       "      <td>4</td>\n",
       "      <td>Computer Science and Engineering</td>\n",
       "      <td>Yes</td>\n",
       "    </tr>\n",
       "    <tr>\n",
       "      <th>4</th>\n",
       "      <td>Vellore Institute of Technology</td>\n",
       "      <td>Tamil Nadu</td>\n",
       "      <td>Vellore</td>\n",
       "      <td>55</td>\n",
       "      <td>55</td>\n",
       "      <td>5</td>\n",
       "      <td>Computer Science and Engineering</td>\n",
       "      <td>Yes</td>\n",
       "    </tr>\n",
       "  </tbody>\n",
       "</table>\n",
       "</div>"
      ],
      "text/plain": [
       "                           University Name       State   District  \\\n",
       "0   Indira Gandhi National Open University       Delhi  New Delhi   \n",
       "1                     Jamia Millia Islamia       Delhi  New Delhi   \n",
       "2  SRM Institute of Science and Technology  Tamil Nadu    Chennai   \n",
       "3  Maharaja Sayajirao University of Baroda     Gujarat     Baroda   \n",
       "4          Vellore Institute of Technology  Tamil Nadu    Vellore   \n",
       "\n",
       "   12th Percentage  Entrance Percentage  Stream Rank  \\\n",
       "0               55                   55            1   \n",
       "1               50                   50            2   \n",
       "2               50                   60            3   \n",
       "3               40                   50            4   \n",
       "4               55                   55            5   \n",
       "\n",
       "                         Department Output  \n",
       "0  Computer Science and Engineering    Yes  \n",
       "1  Computer Science and Engineering    Yes  \n",
       "2  Computer Science and Engineering    Yes  \n",
       "3  Computer Science and Engineering    Yes  \n",
       "4  Computer Science and Engineering    Yes  "
      ]
     },
     "execution_count": 26,
     "metadata": {},
     "output_type": "execute_result"
    }
   ],
   "source": [
    "df = df.drop(['S.NO','College description','College Link','Location Link','Ranking'], axis=1)\n",
    "df.head()"
   ]
  },
  {
   "cell_type": "code",
   "execution_count": 27,
   "metadata": {},
   "outputs": [],
   "source": [
    "df['University Name'] = le.fit_transform(df['University Name'])\n",
    "df['State'] = le.fit_transform(df['State'])\n",
    "df['District'] = le.fit_transform(df['District'])\n",
    "df['Output'] = le.fit_transform(df['Output'])"
   ]
  },
  {
   "cell_type": "code",
   "execution_count": 28,
   "metadata": {},
   "outputs": [
    {
     "data": {
      "text/html": [
       "<div>\n",
       "<style scoped>\n",
       "    .dataframe tbody tr th:only-of-type {\n",
       "        vertical-align: middle;\n",
       "    }\n",
       "\n",
       "    .dataframe tbody tr th {\n",
       "        vertical-align: top;\n",
       "    }\n",
       "\n",
       "    .dataframe thead th {\n",
       "        text-align: right;\n",
       "    }\n",
       "</style>\n",
       "<table border=\"1\" class=\"dataframe\">\n",
       "  <thead>\n",
       "    <tr style=\"text-align: right;\">\n",
       "      <th></th>\n",
       "      <th>University Name</th>\n",
       "      <th>State</th>\n",
       "      <th>District</th>\n",
       "      <th>12th Percentage</th>\n",
       "      <th>Entrance Percentage</th>\n",
       "      <th>Stream Rank</th>\n",
       "      <th>Department</th>\n",
       "      <th>Output</th>\n",
       "    </tr>\n",
       "  </thead>\n",
       "  <tbody>\n",
       "    <tr>\n",
       "      <th>0</th>\n",
       "      <td>18</td>\n",
       "      <td>1</td>\n",
       "      <td>16</td>\n",
       "      <td>55</td>\n",
       "      <td>55</td>\n",
       "      <td>1</td>\n",
       "      <td>Computer Science and Engineering</td>\n",
       "      <td>1</td>\n",
       "    </tr>\n",
       "    <tr>\n",
       "      <th>1</th>\n",
       "      <td>22</td>\n",
       "      <td>1</td>\n",
       "      <td>16</td>\n",
       "      <td>50</td>\n",
       "      <td>50</td>\n",
       "      <td>2</td>\n",
       "      <td>Computer Science and Engineering</td>\n",
       "      <td>1</td>\n",
       "    </tr>\n",
       "    <tr>\n",
       "      <th>2</th>\n",
       "      <td>32</td>\n",
       "      <td>7</td>\n",
       "      <td>5</td>\n",
       "      <td>50</td>\n",
       "      <td>60</td>\n",
       "      <td>3</td>\n",
       "      <td>Computer Science and Engineering</td>\n",
       "      <td>1</td>\n",
       "    </tr>\n",
       "    <tr>\n",
       "      <th>3</th>\n",
       "      <td>24</td>\n",
       "      <td>2</td>\n",
       "      <td>3</td>\n",
       "      <td>40</td>\n",
       "      <td>50</td>\n",
       "      <td>4</td>\n",
       "      <td>Computer Science and Engineering</td>\n",
       "      <td>1</td>\n",
       "    </tr>\n",
       "    <tr>\n",
       "      <th>4</th>\n",
       "      <td>38</td>\n",
       "      <td>7</td>\n",
       "      <td>24</td>\n",
       "      <td>55</td>\n",
       "      <td>55</td>\n",
       "      <td>5</td>\n",
       "      <td>Computer Science and Engineering</td>\n",
       "      <td>1</td>\n",
       "    </tr>\n",
       "  </tbody>\n",
       "</table>\n",
       "</div>"
      ],
      "text/plain": [
       "   University Name  State  District  12th Percentage  Entrance Percentage  \\\n",
       "0               18      1        16               55                   55   \n",
       "1               22      1        16               50                   50   \n",
       "2               32      7         5               50                   60   \n",
       "3               24      2         3               40                   50   \n",
       "4               38      7        24               55                   55   \n",
       "\n",
       "   Stream Rank                        Department  Output  \n",
       "0            1  Computer Science and Engineering       1  \n",
       "1            2  Computer Science and Engineering       1  \n",
       "2            3  Computer Science and Engineering       1  \n",
       "3            4  Computer Science and Engineering       1  \n",
       "4            5  Computer Science and Engineering       1  "
      ]
     },
     "execution_count": 28,
     "metadata": {},
     "output_type": "execute_result"
    }
   ],
   "source": [
    "df.head()"
   ]
  },
  {
   "cell_type": "code",
   "execution_count": 29,
   "metadata": {},
   "outputs": [],
   "source": [
    "x = df.iloc[:,0:6]"
   ]
  },
  {
   "cell_type": "code",
   "execution_count": 30,
   "metadata": {},
   "outputs": [
    {
     "data": {
      "text/html": [
       "<div>\n",
       "<style scoped>\n",
       "    .dataframe tbody tr th:only-of-type {\n",
       "        vertical-align: middle;\n",
       "    }\n",
       "\n",
       "    .dataframe tbody tr th {\n",
       "        vertical-align: top;\n",
       "    }\n",
       "\n",
       "    .dataframe thead th {\n",
       "        text-align: right;\n",
       "    }\n",
       "</style>\n",
       "<table border=\"1\" class=\"dataframe\">\n",
       "  <thead>\n",
       "    <tr style=\"text-align: right;\">\n",
       "      <th></th>\n",
       "      <th>University Name</th>\n",
       "      <th>State</th>\n",
       "      <th>District</th>\n",
       "      <th>12th Percentage</th>\n",
       "      <th>Entrance Percentage</th>\n",
       "      <th>Stream Rank</th>\n",
       "    </tr>\n",
       "  </thead>\n",
       "  <tbody>\n",
       "    <tr>\n",
       "      <th>0</th>\n",
       "      <td>18</td>\n",
       "      <td>1</td>\n",
       "      <td>16</td>\n",
       "      <td>55</td>\n",
       "      <td>55</td>\n",
       "      <td>1</td>\n",
       "    </tr>\n",
       "    <tr>\n",
       "      <th>1</th>\n",
       "      <td>22</td>\n",
       "      <td>1</td>\n",
       "      <td>16</td>\n",
       "      <td>50</td>\n",
       "      <td>50</td>\n",
       "      <td>2</td>\n",
       "    </tr>\n",
       "    <tr>\n",
       "      <th>2</th>\n",
       "      <td>32</td>\n",
       "      <td>7</td>\n",
       "      <td>5</td>\n",
       "      <td>50</td>\n",
       "      <td>60</td>\n",
       "      <td>3</td>\n",
       "    </tr>\n",
       "    <tr>\n",
       "      <th>3</th>\n",
       "      <td>24</td>\n",
       "      <td>2</td>\n",
       "      <td>3</td>\n",
       "      <td>40</td>\n",
       "      <td>50</td>\n",
       "      <td>4</td>\n",
       "    </tr>\n",
       "    <tr>\n",
       "      <th>4</th>\n",
       "      <td>38</td>\n",
       "      <td>7</td>\n",
       "      <td>24</td>\n",
       "      <td>55</td>\n",
       "      <td>55</td>\n",
       "      <td>5</td>\n",
       "    </tr>\n",
       "  </tbody>\n",
       "</table>\n",
       "</div>"
      ],
      "text/plain": [
       "   University Name  State  District  12th Percentage  Entrance Percentage  \\\n",
       "0               18      1        16               55                   55   \n",
       "1               22      1        16               50                   50   \n",
       "2               32      7         5               50                   60   \n",
       "3               24      2         3               40                   50   \n",
       "4               38      7        24               55                   55   \n",
       "\n",
       "   Stream Rank  \n",
       "0            1  \n",
       "1            2  \n",
       "2            3  \n",
       "3            4  \n",
       "4            5  "
      ]
     },
     "execution_count": 30,
     "metadata": {},
     "output_type": "execute_result"
    }
   ],
   "source": [
    "x.head()"
   ]
  },
  {
   "cell_type": "code",
   "execution_count": 31,
   "metadata": {},
   "outputs": [
    {
     "data": {
      "text/html": [
       "<div>\n",
       "<style scoped>\n",
       "    .dataframe tbody tr th:only-of-type {\n",
       "        vertical-align: middle;\n",
       "    }\n",
       "\n",
       "    .dataframe tbody tr th {\n",
       "        vertical-align: top;\n",
       "    }\n",
       "\n",
       "    .dataframe thead th {\n",
       "        text-align: right;\n",
       "    }\n",
       "</style>\n",
       "<table border=\"1\" class=\"dataframe\">\n",
       "  <thead>\n",
       "    <tr style=\"text-align: right;\">\n",
       "      <th></th>\n",
       "      <th>Output</th>\n",
       "    </tr>\n",
       "  </thead>\n",
       "  <tbody>\n",
       "    <tr>\n",
       "      <th>0</th>\n",
       "      <td>1</td>\n",
       "    </tr>\n",
       "    <tr>\n",
       "      <th>1</th>\n",
       "      <td>1</td>\n",
       "    </tr>\n",
       "    <tr>\n",
       "      <th>2</th>\n",
       "      <td>1</td>\n",
       "    </tr>\n",
       "    <tr>\n",
       "      <th>3</th>\n",
       "      <td>1</td>\n",
       "    </tr>\n",
       "    <tr>\n",
       "      <th>4</th>\n",
       "      <td>1</td>\n",
       "    </tr>\n",
       "  </tbody>\n",
       "</table>\n",
       "</div>"
      ],
      "text/plain": [
       "   Output\n",
       "0       1\n",
       "1       1\n",
       "2       1\n",
       "3       1\n",
       "4       1"
      ]
     },
     "execution_count": 31,
     "metadata": {},
     "output_type": "execute_result"
    }
   ],
   "source": [
    "y = df.iloc[:,7:8]\n",
    "y.head()"
   ]
  },
  {
   "cell_type": "markdown",
   "metadata": {},
   "source": [
    "# Scaling"
   ]
  },
  {
   "cell_type": "code",
   "execution_count": 32,
   "metadata": {},
   "outputs": [
    {
     "data": {
      "text/plain": [
       "array([[-0.21617991, -1.25875015,  0.58732285,  0.380242  ,  0.23457118,\n",
       "        -1.6815637 ],\n",
       "       [ 0.12158987, -1.25875015,  0.58732285,  0.14066281, -0.40692043,\n",
       "        -1.50653384],\n",
       "       [ 0.96601432,  0.82254223, -0.95816839,  0.14066281,  0.8760628 ,\n",
       "        -1.33150398],\n",
       "       ...,\n",
       "       [ 1.38822655,  1.16942429, -0.39617157, -1.72805492,  0.8760628 ,\n",
       "         1.46897378],\n",
       "       [ 1.05045677,  0.82254223, -0.95816839, -2.01554996, -1.04841205,\n",
       "         1.64400364],\n",
       "       [-0.21617991, -1.25875015,  0.58732285, -1.48847573,  0.23457118,\n",
       "        -1.6815637 ]])"
      ]
     },
     "execution_count": 32,
     "metadata": {},
     "output_type": "execute_result"
    }
   ],
   "source": [
    "from sklearn.preprocessing import StandardScaler\n",
    "sc = StandardScaler()  \n",
    "x_scaled = sc.fit_transform(x)\n",
    "x_scaled "
   ]
  },
  {
   "cell_type": "markdown",
   "metadata": {},
   "source": [
    "# Splitting dataset into train and test"
   ]
  },
  {
   "cell_type": "code",
   "execution_count": 33,
   "metadata": {},
   "outputs": [],
   "source": [
    "from sklearn.model_selection import train_test_split\n",
    "x_train,x_test,y_train,y_test = train_test_split(x_scaled,y,test_size = 0.3,random_state =0)"
   ]
  },
  {
   "cell_type": "code",
   "execution_count": 34,
   "metadata": {},
   "outputs": [
    {
     "data": {
      "text/plain": [
       "array([[ 0.29047476, -0.91186808, -1.23916679, -0.81765398, -0.40692043,\n",
       "        -1.33150398],\n",
       "       [-0.30062235, -1.25875015,  0.58732285,  2.24895973, -1.68990367,\n",
       "         1.29394392],\n",
       "       [-0.46950724, -0.21810396,  0.30632444, -0.4822431 , -0.40692043,\n",
       "        -1.15647412],\n",
       "       ...,\n",
       "       [-0.97616191,  0.82254223, -0.95816839,  0.6198212 ,  0.8760628 ,\n",
       "         1.29394392],\n",
       "       [-0.3850648 ,  0.82254223, -0.95816839,  0.380242  ,  0.23457118,\n",
       "        -0.45635468],\n",
       "       [ 0.88157188, -0.56498602, -1.37966599,  1.91354886, -0.40692043,\n",
       "         0.41879462]])"
      ]
     },
     "execution_count": 34,
     "metadata": {},
     "output_type": "execute_result"
    }
   ],
   "source": [
    "x_train"
   ]
  },
  {
   "cell_type": "markdown",
   "metadata": {},
   "source": [
    "# Training And Test  the model"
   ]
  },
  {
   "cell_type": "code",
   "execution_count": 35,
   "metadata": {},
   "outputs": [
    {
     "name": "stderr",
     "output_type": "stream",
     "text": [
      "C:\\Users\\sundaram\\anaconda3\\lib\\site-packages\\sklearn\\utils\\validation.py:993: DataConversionWarning: A column-vector y was passed when a 1d array was expected. Please change the shape of y to (n_samples, ), for example using ravel().\n",
      "  y = column_or_1d(y, warn=True)\n"
     ]
    },
    {
     "data": {
      "text/plain": [
       "SVC(kernel='linear', random_state=0)"
      ]
     },
     "execution_count": 35,
     "metadata": {},
     "output_type": "execute_result"
    }
   ],
   "source": [
    "from sklearn.svm import SVC # \"Support vector classifier\"  \n",
    "classifier = SVC(kernel='linear', random_state=0)  \n",
    "classifier.fit(x_train, y_train)  "
   ]
  },
  {
   "cell_type": "code",
   "execution_count": 36,
   "metadata": {},
   "outputs": [
    {
     "data": {
      "text/plain": [
       "array([1, 0, 1, 1, 0, 1, 0, 0, 1, 0, 0, 0, 1, 1, 0, 1, 0, 1, 1, 1, 1, 0,\n",
       "       0, 1, 0, 0, 0, 1, 1, 1, 0, 0, 1, 0, 1, 0, 0, 1, 0, 0, 0, 0, 1, 1,\n",
       "       0, 0, 0, 0, 1, 1, 1, 0, 0, 0, 0, 1, 1, 0, 0, 0, 0, 1, 1, 1, 0, 1,\n",
       "       1, 1, 1, 0, 0, 1, 0, 1, 0, 1, 0, 1, 1, 1, 0, 0, 0, 1, 0, 1, 0, 1,\n",
       "       0, 0, 0, 0, 1, 1, 0, 0, 1, 0, 0, 1, 1, 1, 1, 1, 1, 1, 0, 0, 1, 0,\n",
       "       1, 1, 0, 1, 0, 1, 0, 0, 0, 0, 1, 0, 1, 1, 0, 1, 1, 0, 1, 0, 1, 1,\n",
       "       0, 1, 1, 0, 0, 0, 1, 0])"
      ]
     },
     "execution_count": 36,
     "metadata": {},
     "output_type": "execute_result"
    }
   ],
   "source": [
    "#Predicting the test set result  \n",
    "y_pred= classifier.predict(x_test)  \n",
    "y_pred"
   ]
  },
  {
   "cell_type": "code",
   "execution_count": 37,
   "metadata": {},
   "outputs": [
    {
     "data": {
      "text/plain": [
       "array([[67,  1],\n",
       "       [ 5, 67]], dtype=int64)"
      ]
     },
     "execution_count": 37,
     "metadata": {},
     "output_type": "execute_result"
    }
   ],
   "source": [
    "\n",
    "#Creating the Confusion matrix  \n",
    "from sklearn.metrics import confusion_matrix,accuracy_score  \n",
    "cm= confusion_matrix(y_test, y_pred)  \n",
    "cm"
   ]
  },
  {
   "cell_type": "code",
   "execution_count": 38,
   "metadata": {},
   "outputs": [
    {
     "data": {
      "text/plain": [
       "0.9571428571428572"
      ]
     },
     "execution_count": 38,
     "metadata": {},
     "output_type": "execute_result"
    }
   ],
   "source": [
    "accuracy_score(y_pred,y_test)"
   ]
  },
  {
   "cell_type": "code",
   "execution_count": 39,
   "metadata": {},
   "outputs": [
    {
     "data": {
      "text/plain": [
       "0.9294478527607362"
      ]
     },
     "execution_count": 39,
     "metadata": {},
     "output_type": "execute_result"
    }
   ],
   "source": [
    "classifier.score(x_train,y_train)"
   ]
  },
  {
   "cell_type": "code",
   "execution_count": 40,
   "metadata": {},
   "outputs": [
    {
     "data": {
      "text/plain": [
       "0.9571428571428572"
      ]
     },
     "execution_count": 40,
     "metadata": {},
     "output_type": "execute_result"
    }
   ],
   "source": [
    "classifier.score(x_test,y_test)"
   ]
  },
  {
   "cell_type": "code",
   "execution_count": null,
   "metadata": {},
   "outputs": [],
   "source": []
  }
 ],
 "metadata": {
  "kernelspec": {
   "display_name": "Python 3 (ipykernel)",
   "language": "python",
   "name": "python3"
  },
  "language_info": {
   "codemirror_mode": {
    "name": "ipython",
    "version": 3
   },
   "file_extension": ".py",
   "mimetype": "text/x-python",
   "name": "python",
   "nbconvert_exporter": "python",
   "pygments_lexer": "ipython3",
   "version": "3.9.12"
  }
 },
 "nbformat": 4,
 "nbformat_minor": 4
}
