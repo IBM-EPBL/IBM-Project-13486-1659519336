{
 "cells": [
  {
   "cell_type": "markdown",
   "metadata": {},
   "source": [
    "# Import Libraries"
   ]
  },
  {
   "cell_type": "code",
   "execution_count": 206,
   "metadata": {},
   "outputs": [],
   "source": [
    "import pandas as pd\n",
    "import numpy as np\n",
    "import seaborn as sns\n",
    "import matplotlib.pyplot as plt\n",
    "import sklearn\n",
    "from scipy.stats import iqr"
   ]
  },
  {
   "cell_type": "code",
   "execution_count": 207,
   "metadata": {},
   "outputs": [
    {
     "data": {
      "text/html": [
       "<div>\n",
       "<style scoped>\n",
       "    .dataframe tbody tr th:only-of-type {\n",
       "        vertical-align: middle;\n",
       "    }\n",
       "\n",
       "    .dataframe tbody tr th {\n",
       "        vertical-align: top;\n",
       "    }\n",
       "\n",
       "    .dataframe thead th {\n",
       "        text-align: right;\n",
       "    }\n",
       "</style>\n",
       "<table border=\"1\" class=\"dataframe\">\n",
       "  <thead>\n",
       "    <tr style=\"text-align: right;\">\n",
       "      <th></th>\n",
       "      <th>S.NO</th>\n",
       "      <th>University Name</th>\n",
       "      <th>State</th>\n",
       "      <th>District</th>\n",
       "      <th>College description</th>\n",
       "      <th>College Link</th>\n",
       "      <th>Location Link</th>\n",
       "      <th>12th Percentage</th>\n",
       "      <th>Entrance Percentage</th>\n",
       "      <th>Ranking</th>\n",
       "      <th>Stream Rank</th>\n",
       "      <th>OUTPUT</th>\n",
       "    </tr>\n",
       "  </thead>\n",
       "  <tbody>\n",
       "    <tr>\n",
       "      <th>0</th>\n",
       "      <td>1</td>\n",
       "      <td>Indira Gandhi National Open University</td>\n",
       "      <td>Delhi</td>\n",
       "      <td>New Delhi</td>\n",
       "      <td>Indira Gandhi National Open University (IGNOU)...</td>\n",
       "      <td>http://ignou.ac.in/</td>\n",
       "      <td>https://goo.gl/maps/SfsYq66L9xvvDFsbA</td>\n",
       "      <td>55</td>\n",
       "      <td>55</td>\n",
       "      <td>71</td>\n",
       "      <td>1</td>\n",
       "      <td>YES</td>\n",
       "    </tr>\n",
       "    <tr>\n",
       "      <th>1</th>\n",
       "      <td>2</td>\n",
       "      <td>Jamia Millia Islamia</td>\n",
       "      <td>Delhi</td>\n",
       "      <td>New Delhi</td>\n",
       "      <td>Jamia Millia Islamia (JMI) is a central univer...</td>\n",
       "      <td>https://www.jmi.ac.in/</td>\n",
       "      <td>https://goo.gl/maps/NCaytJGjbrEMc3WU8</td>\n",
       "      <td>50</td>\n",
       "      <td>50</td>\n",
       "      <td>3</td>\n",
       "      <td>2</td>\n",
       "      <td>YES</td>\n",
       "    </tr>\n",
       "    <tr>\n",
       "      <th>2</th>\n",
       "      <td>3</td>\n",
       "      <td>SRM Institute of Science and Technology</td>\n",
       "      <td>Tamil Nadu</td>\n",
       "      <td>Chennai</td>\n",
       "      <td>SRM Institute of Science and Technology (SRM I...</td>\n",
       "      <td>https://www.srmist.edu.in/</td>\n",
       "      <td>https://goo.gl/maps/z7BsZBg1coy96UdJ8</td>\n",
       "      <td>50</td>\n",
       "      <td>60</td>\n",
       "      <td>19</td>\n",
       "      <td>3</td>\n",
       "      <td>YES</td>\n",
       "    </tr>\n",
       "    <tr>\n",
       "      <th>3</th>\n",
       "      <td>4</td>\n",
       "      <td>Maharaja Sayajirao University of Baroda</td>\n",
       "      <td>Gujarat</td>\n",
       "      <td>Baroda</td>\n",
       "      <td>Maharaja Sayajirao University of Baroda is a p...</td>\n",
       "      <td>https://www.msubaroda.ac.in/</td>\n",
       "      <td>https://g.page/TheMSUB?share</td>\n",
       "      <td>40</td>\n",
       "      <td>50</td>\n",
       "      <td>90</td>\n",
       "      <td>4</td>\n",
       "      <td>YES</td>\n",
       "    </tr>\n",
       "    <tr>\n",
       "      <th>4</th>\n",
       "      <td>5</td>\n",
       "      <td>Vellore Institute of Technology</td>\n",
       "      <td>Tamil Nadu</td>\n",
       "      <td>Vellore</td>\n",
       "      <td>VIT admits bachelor students through its own e...</td>\n",
       "      <td>https://vit.ac.in/</td>\n",
       "      <td>https://goo.gl/maps/hgQD3vdarwFDZP1eA</td>\n",
       "      <td>55</td>\n",
       "      <td>55</td>\n",
       "      <td>9</td>\n",
       "      <td>5</td>\n",
       "      <td>YES</td>\n",
       "    </tr>\n",
       "  </tbody>\n",
       "</table>\n",
       "</div>"
      ],
      "text/plain": [
       "   S.NO                          University Name       State   District  \\\n",
       "0     1   Indira Gandhi National Open University       Delhi  New Delhi   \n",
       "1     2                     Jamia Millia Islamia       Delhi  New Delhi   \n",
       "2     3  SRM Institute of Science and Technology  Tamil Nadu    Chennai   \n",
       "3     4  Maharaja Sayajirao University of Baroda     Gujarat     Baroda   \n",
       "4     5          Vellore Institute of Technology  Tamil Nadu    Vellore   \n",
       "\n",
       "                                 College description  \\\n",
       "0  Indira Gandhi National Open University (IGNOU)...   \n",
       "1  Jamia Millia Islamia (JMI) is a central univer...   \n",
       "2  SRM Institute of Science and Technology (SRM I...   \n",
       "3  Maharaja Sayajirao University of Baroda is a p...   \n",
       "4  VIT admits bachelor students through its own e...   \n",
       "\n",
       "                   College Link                          Location Link  \\\n",
       "0           http://ignou.ac.in/  https://goo.gl/maps/SfsYq66L9xvvDFsbA   \n",
       "1        https://www.jmi.ac.in/  https://goo.gl/maps/NCaytJGjbrEMc3WU8   \n",
       "2    https://www.srmist.edu.in/  https://goo.gl/maps/z7BsZBg1coy96UdJ8   \n",
       "3  https://www.msubaroda.ac.in/           https://g.page/TheMSUB?share   \n",
       "4            https://vit.ac.in/  https://goo.gl/maps/hgQD3vdarwFDZP1eA   \n",
       "\n",
       "   12th Percentage  Entrance Percentage  Ranking  Stream Rank OUTPUT  \n",
       "0               55                   55       71            1    YES  \n",
       "1               50                   50        3            2    YES  \n",
       "2               50                   60       19            3    YES  \n",
       "3               40                   50       90            4    YES  \n",
       "4               55                   55        9            5    YES  "
      ]
     },
     "execution_count": 207,
     "metadata": {},
     "output_type": "execute_result"
    }
   ],
   "source": [
    "df1 = pd.read_excel(\"File.xlsx\")\n",
    "df1.head()"
   ]
  },
  {
   "cell_type": "code",
   "execution_count": 208,
   "metadata": {},
   "outputs": [
    {
     "data": {
      "text/html": [
       "<div>\n",
       "<style scoped>\n",
       "    .dataframe tbody tr th:only-of-type {\n",
       "        vertical-align: middle;\n",
       "    }\n",
       "\n",
       "    .dataframe tbody tr th {\n",
       "        vertical-align: top;\n",
       "    }\n",
       "\n",
       "    .dataframe thead th {\n",
       "        text-align: right;\n",
       "    }\n",
       "</style>\n",
       "<table border=\"1\" class=\"dataframe\">\n",
       "  <thead>\n",
       "    <tr style=\"text-align: right;\">\n",
       "      <th></th>\n",
       "      <th>S.NO</th>\n",
       "      <th>University Name</th>\n",
       "      <th>State</th>\n",
       "      <th>District</th>\n",
       "      <th>College description</th>\n",
       "      <th>College Link</th>\n",
       "      <th>Location Link</th>\n",
       "      <th>12th Percentage</th>\n",
       "      <th>Entrance Percentage</th>\n",
       "      <th>Ranking</th>\n",
       "      <th>Stream Rank</th>\n",
       "      <th>OUTPUT</th>\n",
       "    </tr>\n",
       "  </thead>\n",
       "  <tbody>\n",
       "    <tr>\n",
       "      <th>0</th>\n",
       "      <td>1</td>\n",
       "      <td>Indira Gandhi National Open University</td>\n",
       "      <td>Delhi</td>\n",
       "      <td>New Delhi</td>\n",
       "      <td>Indira Gandhi National Open University (IGNOU)...</td>\n",
       "      <td>http://ignou.ac.in/</td>\n",
       "      <td>https://goo.gl/maps/SfsYq66L9xvvDFsbA</td>\n",
       "      <td>55</td>\n",
       "      <td>55</td>\n",
       "      <td>71</td>\n",
       "      <td>1</td>\n",
       "      <td>YES</td>\n",
       "    </tr>\n",
       "    <tr>\n",
       "      <th>1</th>\n",
       "      <td>2</td>\n",
       "      <td>Jamia Millia Islamia</td>\n",
       "      <td>Delhi</td>\n",
       "      <td>New Delhi</td>\n",
       "      <td>Jamia Millia Islamia (JMI) is a central univer...</td>\n",
       "      <td>https://www.jmi.ac.in/</td>\n",
       "      <td>https://goo.gl/maps/NCaytJGjbrEMc3WU8</td>\n",
       "      <td>50</td>\n",
       "      <td>50</td>\n",
       "      <td>3</td>\n",
       "      <td>2</td>\n",
       "      <td>YES</td>\n",
       "    </tr>\n",
       "    <tr>\n",
       "      <th>2</th>\n",
       "      <td>3</td>\n",
       "      <td>SRM Institute of Science and Technology</td>\n",
       "      <td>Tamil Nadu</td>\n",
       "      <td>Chennai</td>\n",
       "      <td>SRM Institute of Science and Technology (SRM I...</td>\n",
       "      <td>https://www.srmist.edu.in/</td>\n",
       "      <td>https://goo.gl/maps/z7BsZBg1coy96UdJ8</td>\n",
       "      <td>50</td>\n",
       "      <td>60</td>\n",
       "      <td>19</td>\n",
       "      <td>3</td>\n",
       "      <td>YES</td>\n",
       "    </tr>\n",
       "    <tr>\n",
       "      <th>3</th>\n",
       "      <td>4</td>\n",
       "      <td>Maharaja Sayajirao University of Baroda</td>\n",
       "      <td>Gujarat</td>\n",
       "      <td>Baroda</td>\n",
       "      <td>Maharaja Sayajirao University of Baroda is a p...</td>\n",
       "      <td>https://www.msubaroda.ac.in/</td>\n",
       "      <td>https://g.page/TheMSUB?share</td>\n",
       "      <td>40</td>\n",
       "      <td>50</td>\n",
       "      <td>90</td>\n",
       "      <td>4</td>\n",
       "      <td>YES</td>\n",
       "    </tr>\n",
       "    <tr>\n",
       "      <th>4</th>\n",
       "      <td>5</td>\n",
       "      <td>Vellore Institute of Technology</td>\n",
       "      <td>Tamil Nadu</td>\n",
       "      <td>Vellore</td>\n",
       "      <td>VIT admits bachelor students through its own e...</td>\n",
       "      <td>https://vit.ac.in/</td>\n",
       "      <td>https://goo.gl/maps/hgQD3vdarwFDZP1eA</td>\n",
       "      <td>55</td>\n",
       "      <td>55</td>\n",
       "      <td>9</td>\n",
       "      <td>5</td>\n",
       "      <td>YES</td>\n",
       "    </tr>\n",
       "    <tr>\n",
       "      <th>...</th>\n",
       "      <td>...</td>\n",
       "      <td>...</td>\n",
       "      <td>...</td>\n",
       "      <td>...</td>\n",
       "      <td>...</td>\n",
       "      <td>...</td>\n",
       "      <td>...</td>\n",
       "      <td>...</td>\n",
       "      <td>...</td>\n",
       "      <td>...</td>\n",
       "      <td>...</td>\n",
       "      <td>...</td>\n",
       "    </tr>\n",
       "    <tr>\n",
       "      <th>95</th>\n",
       "      <td>96</td>\n",
       "      <td>Institute of Chemical Technology, Mumbai</td>\n",
       "      <td>Maharashtra</td>\n",
       "      <td>Mumbai</td>\n",
       "      <td>Institute of Chemical Technology, Mumbai (ICT ...</td>\n",
       "      <td>https://www.ictmumbai.edu.in/</td>\n",
       "      <td>https://goo.gl/maps/Y6rD7yit6Kc7dH189</td>\n",
       "      <td>55</td>\n",
       "      <td>66</td>\n",
       "      <td>14</td>\n",
       "      <td>16</td>\n",
       "      <td>YES</td>\n",
       "    </tr>\n",
       "    <tr>\n",
       "      <th>96</th>\n",
       "      <td>97</td>\n",
       "      <td>Chandigarh University</td>\n",
       "      <td>Punjab</td>\n",
       "      <td>Mohali</td>\n",
       "      <td>Chandigarh University is a private university ...</td>\n",
       "      <td>https://www.cuchd.in/</td>\n",
       "      <td>https://g.page/ChandigarhUni?share</td>\n",
       "      <td>50</td>\n",
       "      <td>55</td>\n",
       "      <td>29</td>\n",
       "      <td>17</td>\n",
       "      <td>YES</td>\n",
       "    </tr>\n",
       "    <tr>\n",
       "      <th>97</th>\n",
       "      <td>98</td>\n",
       "      <td>National Institute of Technology Tiruchirappalli</td>\n",
       "      <td>Tamil Nadu</td>\n",
       "      <td>Tiruchirappalli</td>\n",
       "      <td>NIT Trichy is an autonomous technological inst...</td>\n",
       "      <td>https://www.nitt.edu/</td>\n",
       "      <td>https://goo.gl/maps/xGuvi67j5KbLyTU46</td>\n",
       "      <td>75</td>\n",
       "      <td>65</td>\n",
       "      <td>47</td>\n",
       "      <td>18</td>\n",
       "      <td>YES</td>\n",
       "    </tr>\n",
       "    <tr>\n",
       "      <th>98</th>\n",
       "      <td>99</td>\n",
       "      <td>Indian Institute of Technology,Delhi</td>\n",
       "      <td>Delhi</td>\n",
       "      <td>New Delhi</td>\n",
       "      <td>IIT Delhi ranks 4th in the Overall, 3rd in Res...</td>\n",
       "      <td>https://home.iitd.ac.in/</td>\n",
       "      <td>https://goo.gl/maps/3gPFUWx7fp2A99fP6</td>\n",
       "      <td>60</td>\n",
       "      <td>75</td>\n",
       "      <td>160</td>\n",
       "      <td>19</td>\n",
       "      <td>YES</td>\n",
       "    </tr>\n",
       "    <tr>\n",
       "      <th>99</th>\n",
       "      <td>100</td>\n",
       "      <td>Sathyabama Institute of Science and Technology</td>\n",
       "      <td>Tamil Nadu</td>\n",
       "      <td>Chennai</td>\n",
       "      <td>Sathyabama Institute of Science and Technology...</td>\n",
       "      <td>https://www.sathyabama.ac.in/</td>\n",
       "      <td>https://goo.gl/maps/QuVeBJuw7TNTMuQB7</td>\n",
       "      <td>45</td>\n",
       "      <td>45</td>\n",
       "      <td>43</td>\n",
       "      <td>20</td>\n",
       "      <td>YES</td>\n",
       "    </tr>\n",
       "  </tbody>\n",
       "</table>\n",
       "<p>100 rows × 12 columns</p>\n",
       "</div>"
      ],
      "text/plain": [
       "    S.NO                                   University Name        State  \\\n",
       "0      1            Indira Gandhi National Open University        Delhi   \n",
       "1      2                              Jamia Millia Islamia        Delhi   \n",
       "2      3           SRM Institute of Science and Technology   Tamil Nadu   \n",
       "3      4           Maharaja Sayajirao University of Baroda      Gujarat   \n",
       "4      5                   Vellore Institute of Technology   Tamil Nadu   \n",
       "..   ...                                               ...          ...   \n",
       "95    96          Institute of Chemical Technology, Mumbai  Maharashtra   \n",
       "96    97                             Chandigarh University       Punjab   \n",
       "97    98  National Institute of Technology Tiruchirappalli   Tamil Nadu   \n",
       "98    99              Indian Institute of Technology,Delhi        Delhi   \n",
       "99   100    Sathyabama Institute of Science and Technology   Tamil Nadu   \n",
       "\n",
       "           District                                College description  \\\n",
       "0         New Delhi  Indira Gandhi National Open University (IGNOU)...   \n",
       "1         New Delhi  Jamia Millia Islamia (JMI) is a central univer...   \n",
       "2           Chennai  SRM Institute of Science and Technology (SRM I...   \n",
       "3            Baroda  Maharaja Sayajirao University of Baroda is a p...   \n",
       "4           Vellore  VIT admits bachelor students through its own e...   \n",
       "..              ...                                                ...   \n",
       "95           Mumbai  Institute of Chemical Technology, Mumbai (ICT ...   \n",
       "96           Mohali  Chandigarh University is a private university ...   \n",
       "97  Tiruchirappalli  NIT Trichy is an autonomous technological inst...   \n",
       "98        New Delhi  IIT Delhi ranks 4th in the Overall, 3rd in Res...   \n",
       "99          Chennai  Sathyabama Institute of Science and Technology...   \n",
       "\n",
       "                     College Link                          Location Link  \\\n",
       "0             http://ignou.ac.in/  https://goo.gl/maps/SfsYq66L9xvvDFsbA   \n",
       "1          https://www.jmi.ac.in/  https://goo.gl/maps/NCaytJGjbrEMc3WU8   \n",
       "2      https://www.srmist.edu.in/  https://goo.gl/maps/z7BsZBg1coy96UdJ8   \n",
       "3    https://www.msubaroda.ac.in/           https://g.page/TheMSUB?share   \n",
       "4              https://vit.ac.in/  https://goo.gl/maps/hgQD3vdarwFDZP1eA   \n",
       "..                            ...                                    ...   \n",
       "95  https://www.ictmumbai.edu.in/  https://goo.gl/maps/Y6rD7yit6Kc7dH189   \n",
       "96          https://www.cuchd.in/     https://g.page/ChandigarhUni?share   \n",
       "97          https://www.nitt.edu/  https://goo.gl/maps/xGuvi67j5KbLyTU46   \n",
       "98       https://home.iitd.ac.in/  https://goo.gl/maps/3gPFUWx7fp2A99fP6   \n",
       "99  https://www.sathyabama.ac.in/  https://goo.gl/maps/QuVeBJuw7TNTMuQB7   \n",
       "\n",
       "    12th Percentage  Entrance Percentage  Ranking  Stream Rank OUTPUT  \n",
       "0                55                   55       71            1    YES  \n",
       "1                50                   50        3            2    YES  \n",
       "2                50                   60       19            3    YES  \n",
       "3                40                   50       90            4    YES  \n",
       "4                55                   55        9            5    YES  \n",
       "..              ...                  ...      ...          ...    ...  \n",
       "95               55                   66       14           16    YES  \n",
       "96               50                   55       29           17    YES  \n",
       "97               75                   65       47           18    YES  \n",
       "98               60                   75      160           19    YES  \n",
       "99               45                   45       43           20    YES  \n",
       "\n",
       "[100 rows x 12 columns]"
      ]
     },
     "execution_count": 208,
     "metadata": {},
     "output_type": "execute_result"
    }
   ],
   "source": [
    "df = df1\n",
    "df"
   ]
  },
  {
   "cell_type": "code",
   "execution_count": 209,
   "metadata": {},
   "outputs": [
    {
     "data": {
      "text/plain": [
       "S.NO                   0\n",
       "University Name        0\n",
       "State                  0\n",
       "District               0\n",
       "College description    0\n",
       "College Link           0\n",
       "Location Link          0\n",
       "12th Percentage        0\n",
       "Entrance Percentage    0\n",
       "Ranking                0\n",
       "Stream Rank            0\n",
       "OUTPUT                 0\n",
       "dtype: int64"
      ]
     },
     "execution_count": 209,
     "metadata": {},
     "output_type": "execute_result"
    }
   ],
   "source": [
    "df.isnull().sum()"
   ]
  },
  {
   "cell_type": "code",
   "execution_count": 210,
   "metadata": {},
   "outputs": [
    {
     "data": {
      "text/html": [
       "<div>\n",
       "<style scoped>\n",
       "    .dataframe tbody tr th:only-of-type {\n",
       "        vertical-align: middle;\n",
       "    }\n",
       "\n",
       "    .dataframe tbody tr th {\n",
       "        vertical-align: top;\n",
       "    }\n",
       "\n",
       "    .dataframe thead th {\n",
       "        text-align: right;\n",
       "    }\n",
       "</style>\n",
       "<table border=\"1\" class=\"dataframe\">\n",
       "  <thead>\n",
       "    <tr style=\"text-align: right;\">\n",
       "      <th></th>\n",
       "      <th>S.NO</th>\n",
       "      <th>12th Percentage</th>\n",
       "      <th>Entrance Percentage</th>\n",
       "      <th>Ranking</th>\n",
       "      <th>Stream Rank</th>\n",
       "    </tr>\n",
       "  </thead>\n",
       "  <tbody>\n",
       "    <tr>\n",
       "      <th>count</th>\n",
       "      <td>100.000000</td>\n",
       "      <td>100.000000</td>\n",
       "      <td>100.000000</td>\n",
       "      <td>100.000000</td>\n",
       "      <td>100.000000</td>\n",
       "    </tr>\n",
       "    <tr>\n",
       "      <th>mean</th>\n",
       "      <td>50.500000</td>\n",
       "      <td>54.500000</td>\n",
       "      <td>55.770000</td>\n",
       "      <td>56.800000</td>\n",
       "      <td>10.500000</td>\n",
       "    </tr>\n",
       "    <tr>\n",
       "      <th>std</th>\n",
       "      <td>29.011492</td>\n",
       "      <td>8.149487</td>\n",
       "      <td>8.852158</td>\n",
       "      <td>46.121272</td>\n",
       "      <td>5.795331</td>\n",
       "    </tr>\n",
       "    <tr>\n",
       "      <th>min</th>\n",
       "      <td>1.000000</td>\n",
       "      <td>40.000000</td>\n",
       "      <td>40.000000</td>\n",
       "      <td>1.000000</td>\n",
       "      <td>1.000000</td>\n",
       "    </tr>\n",
       "    <tr>\n",
       "      <th>25%</th>\n",
       "      <td>25.750000</td>\n",
       "      <td>50.000000</td>\n",
       "      <td>50.000000</td>\n",
       "      <td>14.750000</td>\n",
       "      <td>5.750000</td>\n",
       "    </tr>\n",
       "    <tr>\n",
       "      <th>50%</th>\n",
       "      <td>50.500000</td>\n",
       "      <td>55.000000</td>\n",
       "      <td>55.000000</td>\n",
       "      <td>47.000000</td>\n",
       "      <td>10.500000</td>\n",
       "    </tr>\n",
       "    <tr>\n",
       "      <th>75%</th>\n",
       "      <td>75.250000</td>\n",
       "      <td>60.000000</td>\n",
       "      <td>60.000000</td>\n",
       "      <td>90.000000</td>\n",
       "      <td>15.250000</td>\n",
       "    </tr>\n",
       "    <tr>\n",
       "      <th>max</th>\n",
       "      <td>100.000000</td>\n",
       "      <td>75.000000</td>\n",
       "      <td>80.000000</td>\n",
       "      <td>160.000000</td>\n",
       "      <td>20.000000</td>\n",
       "    </tr>\n",
       "  </tbody>\n",
       "</table>\n",
       "</div>"
      ],
      "text/plain": [
       "             S.NO  12th Percentage  Entrance Percentage     Ranking  \\\n",
       "count  100.000000       100.000000           100.000000  100.000000   \n",
       "mean    50.500000        54.500000            55.770000   56.800000   \n",
       "std     29.011492         8.149487             8.852158   46.121272   \n",
       "min      1.000000        40.000000            40.000000    1.000000   \n",
       "25%     25.750000        50.000000            50.000000   14.750000   \n",
       "50%     50.500000        55.000000            55.000000   47.000000   \n",
       "75%     75.250000        60.000000            60.000000   90.000000   \n",
       "max    100.000000        75.000000            80.000000  160.000000   \n",
       "\n",
       "       Stream Rank  \n",
       "count   100.000000  \n",
       "mean     10.500000  \n",
       "std       5.795331  \n",
       "min       1.000000  \n",
       "25%       5.750000  \n",
       "50%      10.500000  \n",
       "75%      15.250000  \n",
       "max      20.000000  "
      ]
     },
     "execution_count": 210,
     "metadata": {},
     "output_type": "execute_result"
    }
   ],
   "source": [
    "df.describe()"
   ]
  },
  {
   "cell_type": "markdown",
   "metadata": {},
   "source": [
    "# Univariate Analysis"
   ]
  },
  {
   "cell_type": "code",
   "execution_count": 211,
   "metadata": {},
   "outputs": [
    {
     "name": "stderr",
     "output_type": "stream",
     "text": [
      "C:\\Users\\A.Afrinbanu\\anaconda3\\lib\\site-packages\\seaborn\\distributions.py:2551: FutureWarning: `distplot` is a deprecated function and will be removed in a future version. Please adapt your code to use either `displot` (a figure-level function with similar flexibility) or `histplot` (an axes-level function for histograms).\n",
      "  warnings.warn(msg, FutureWarning)\n"
     ]
    },
    {
     "data": {
      "text/plain": [
       "<AxesSubplot:xlabel='12th Percentage', ylabel='Density'>"
      ]
     },
     "execution_count": 211,
     "metadata": {},
     "output_type": "execute_result"
    },
    {
     "data": {
      "image/png": "[encoded data removed]",
      "text/plain": [
       "<Figure size 432x288 with 1 Axes>"
      ]
     },
     "metadata": {
      "needs_background": "light"
     },
     "output_type": "display_data"
    }
   ],
   "source": [
    "sns.distplot(df['12th Percentage'])  #univariate"
   ]
  },
  {
   "cell_type": "markdown",
   "metadata": {},
   "source": [
    "# Bivariate Analysis\n"
   ]
  },
  {
   "cell_type": "code",
   "execution_count": 212,
   "metadata": {},
   "outputs": [
    {
     "name": "stderr",
     "output_type": "stream",
     "text": [
      "C:\\Users\\A.Afrinbanu\\anaconda3\\lib\\site-packages\\seaborn\\_decorators.py:36: FutureWarning: Pass the following variables as keyword args: x, y. From version 0.12, the only valid positional argument will be `data`, and passing other arguments without an explicit keyword will result in an error or misinterpretation.\n",
      "  warnings.warn(\n"
     ]
    },
    {
     "data": {
      "text/plain": [
       "<AxesSubplot:xlabel='Ranking', ylabel='Entrance Percentage'>"
      ]
     },
     "execution_count": 212,
     "metadata": {},
     "output_type": "execute_result"
    },
    {
     "data": {
      "image/png": "[encoded data removed]",
      "text/plain": [
       "<Figure size 432x288 with 1 Axes>"
      ]
     },
     "metadata": {
      "needs_background": "light"
     },
     "output_type": "display_data"
    }
   ],
   "source": [
    "sns.lineplot(df['Ranking'],df['Entrance Percentage'])   #bivariate"
   ]
  },
  {
   "cell_type": "code",
   "execution_count": 213,
   "metadata": {},
   "outputs": [
    {
     "name": "stderr",
     "output_type": "stream",
     "text": [
      "C:\\Users\\A.Afrinbanu\\anaconda3\\lib\\site-packages\\seaborn\\_decorators.py:36: FutureWarning: Pass the following variables as keyword args: x, y. From version 0.12, the only valid positional argument will be `data`, and passing other arguments without an explicit keyword will result in an error or misinterpretation.\n",
      "  warnings.warn(\n"
     ]
    },
    {
     "data": {
      "text/plain": [
       "<AxesSubplot:xlabel='Ranking', ylabel='Entrance Percentage'>"
      ]
     },
     "execution_count": 213,
     "metadata": {},
     "output_type": "execute_result"
    },
    {
     "data": {
      "image/png": "[encoded data removed]",
      "text/plain": [
       "<Figure size 432x288 with 1 Axes>"
      ]
     },
     "metadata": {
      "needs_background": "light"
     },
     "output_type": "display_data"
    }
   ],
   "source": [
    "sns.scatterplot(df['Ranking'],df['Entrance Percentage'])"
   ]
  },
  {
   "cell_type": "markdown",
   "metadata": {},
   "source": [
    "# Multi variate Analysis\n"
   ]
  },
  {
   "cell_type": "code",
   "execution_count": 214,
   "metadata": {},
   "outputs": [
    {
     "name": "stderr",
     "output_type": "stream",
     "text": [
      "C:\\Users\\A.Afrinbanu\\anaconda3\\lib\\site-packages\\seaborn\\_decorators.py:36: FutureWarning: Pass the following variables as keyword args: x, y. From version 0.12, the only valid positional argument will be `data`, and passing other arguments without an explicit keyword will result in an error or misinterpretation.\n",
      "  warnings.warn(\n"
     ]
    },
    {
     "data": {
      "text/plain": [
       "<AxesSubplot:xlabel='Entrance Percentage', ylabel='Ranking'>"
      ]
     },
     "execution_count": 214,
     "metadata": {},
     "output_type": "execute_result"
    },
    {
     "data": {
      "image/png": "[encoded data removed]",
      "text/plain": [
       "<Figure size 432x288 with 1 Axes>"
      ]
     },
     "metadata": {
      "needs_background": "light"
     },
     "output_type": "display_data"
    }
   ],
   "source": [
    "sns.scatterplot(df['Entrance Percentage'],df['Ranking'],hue = df['12th Percentage'])   #multi variate"
   ]
  },
  {
   "cell_type": "markdown",
   "metadata": {},
   "source": [
    "# Descriptive Statistics\n"
   ]
  },
  {
   "cell_type": "code",
   "execution_count": 215,
   "metadata": {},
   "outputs": [
    {
     "data": {
      "text/plain": [
       "S.NO                   50.50\n",
       "12th Percentage        54.50\n",
       "Entrance Percentage    55.77\n",
       "Ranking                56.80\n",
       "Stream Rank            10.50\n",
       "dtype: float64"
      ]
     },
     "execution_count": 215,
     "metadata": {},
     "output_type": "execute_result"
    }
   ],
   "source": [
    "df.mean()"
   ]
  },
  {
   "cell_type": "code",
   "execution_count": 216,
   "metadata": {},
   "outputs": [
    {
     "data": {
      "text/plain": [
       "S.NO                   50.5\n",
       "12th Percentage        55.0\n",
       "Entrance Percentage    55.0\n",
       "Ranking                47.0\n",
       "Stream Rank            10.5\n",
       "dtype: float64"
      ]
     },
     "execution_count": 216,
     "metadata": {},
     "output_type": "execute_result"
    }
   ],
   "source": [
    "df.median()"
   ]
  },
  {
   "cell_type": "code",
   "execution_count": 217,
   "metadata": {},
   "outputs": [
    {
     "data": {
      "text/html": [
       "<div>\n",
       "<style scoped>\n",
       "    .dataframe tbody tr th:only-of-type {\n",
       "        vertical-align: middle;\n",
       "    }\n",
       "\n",
       "    .dataframe tbody tr th {\n",
       "        vertical-align: top;\n",
       "    }\n",
       "\n",
       "    .dataframe thead th {\n",
       "        text-align: right;\n",
       "    }\n",
       "</style>\n",
       "<table border=\"1\" class=\"dataframe\">\n",
       "  <thead>\n",
       "    <tr style=\"text-align: right;\">\n",
       "      <th></th>\n",
       "      <th>S.NO</th>\n",
       "      <th>University Name</th>\n",
       "      <th>State</th>\n",
       "      <th>District</th>\n",
       "      <th>College description</th>\n",
       "      <th>College Link</th>\n",
       "      <th>Location Link</th>\n",
       "      <th>12th Percentage</th>\n",
       "      <th>Entrance Percentage</th>\n",
       "      <th>Ranking</th>\n",
       "      <th>Stream Rank</th>\n",
       "      <th>OUTPUT</th>\n",
       "    </tr>\n",
       "  </thead>\n",
       "  <tbody>\n",
       "    <tr>\n",
       "      <th>0</th>\n",
       "      <td>1</td>\n",
       "      <td>Lovely Professional University</td>\n",
       "      <td>Tamil Nadu</td>\n",
       "      <td>New Delhi</td>\n",
       "      <td>SRM Institute of Science and Technology (SRM I...</td>\n",
       "      <td>https://www.srmist.edu.in/</td>\n",
       "      <td>https://goo.gl/maps/z7BsZBg1coy96UdJ8</td>\n",
       "      <td>55.0</td>\n",
       "      <td>55.0</td>\n",
       "      <td>47.0</td>\n",
       "      <td>1.0</td>\n",
       "      <td>YES</td>\n",
       "    </tr>\n",
       "    <tr>\n",
       "      <th>1</th>\n",
       "      <td>2</td>\n",
       "      <td>Chandigarh University</td>\n",
       "      <td>NaN</td>\n",
       "      <td>NaN</td>\n",
       "      <td>NaN</td>\n",
       "      <td>NaN</td>\n",
       "      <td>NaN</td>\n",
       "      <td>NaN</td>\n",
       "      <td>NaN</td>\n",
       "      <td>NaN</td>\n",
       "      <td>2.0</td>\n",
       "      <td>NaN</td>\n",
       "    </tr>\n",
       "    <tr>\n",
       "      <th>2</th>\n",
       "      <td>3</td>\n",
       "      <td>Christ University</td>\n",
       "      <td>NaN</td>\n",
       "      <td>NaN</td>\n",
       "      <td>NaN</td>\n",
       "      <td>NaN</td>\n",
       "      <td>NaN</td>\n",
       "      <td>NaN</td>\n",
       "      <td>NaN</td>\n",
       "      <td>NaN</td>\n",
       "      <td>3.0</td>\n",
       "      <td>NaN</td>\n",
       "    </tr>\n",
       "    <tr>\n",
       "      <th>3</th>\n",
       "      <td>4</td>\n",
       "      <td>National Institute of Technology Tiruchirappalli</td>\n",
       "      <td>NaN</td>\n",
       "      <td>NaN</td>\n",
       "      <td>NaN</td>\n",
       "      <td>NaN</td>\n",
       "      <td>NaN</td>\n",
       "      <td>NaN</td>\n",
       "      <td>NaN</td>\n",
       "      <td>NaN</td>\n",
       "      <td>4.0</td>\n",
       "      <td>NaN</td>\n",
       "    </tr>\n",
       "    <tr>\n",
       "      <th>4</th>\n",
       "      <td>5</td>\n",
       "      <td>SRM Institute of Science and Technology</td>\n",
       "      <td>NaN</td>\n",
       "      <td>NaN</td>\n",
       "      <td>NaN</td>\n",
       "      <td>NaN</td>\n",
       "      <td>NaN</td>\n",
       "      <td>NaN</td>\n",
       "      <td>NaN</td>\n",
       "      <td>NaN</td>\n",
       "      <td>5.0</td>\n",
       "      <td>NaN</td>\n",
       "    </tr>\n",
       "    <tr>\n",
       "      <th>...</th>\n",
       "      <td>...</td>\n",
       "      <td>...</td>\n",
       "      <td>...</td>\n",
       "      <td>...</td>\n",
       "      <td>...</td>\n",
       "      <td>...</td>\n",
       "      <td>...</td>\n",
       "      <td>...</td>\n",
       "      <td>...</td>\n",
       "      <td>...</td>\n",
       "      <td>...</td>\n",
       "      <td>...</td>\n",
       "    </tr>\n",
       "    <tr>\n",
       "      <th>95</th>\n",
       "      <td>96</td>\n",
       "      <td>NaN</td>\n",
       "      <td>NaN</td>\n",
       "      <td>NaN</td>\n",
       "      <td>NaN</td>\n",
       "      <td>NaN</td>\n",
       "      <td>NaN</td>\n",
       "      <td>NaN</td>\n",
       "      <td>NaN</td>\n",
       "      <td>NaN</td>\n",
       "      <td>NaN</td>\n",
       "      <td>NaN</td>\n",
       "    </tr>\n",
       "    <tr>\n",
       "      <th>96</th>\n",
       "      <td>97</td>\n",
       "      <td>NaN</td>\n",
       "      <td>NaN</td>\n",
       "      <td>NaN</td>\n",
       "      <td>NaN</td>\n",
       "      <td>NaN</td>\n",
       "      <td>NaN</td>\n",
       "      <td>NaN</td>\n",
       "      <td>NaN</td>\n",
       "      <td>NaN</td>\n",
       "      <td>NaN</td>\n",
       "      <td>NaN</td>\n",
       "    </tr>\n",
       "    <tr>\n",
       "      <th>97</th>\n",
       "      <td>98</td>\n",
       "      <td>NaN</td>\n",
       "      <td>NaN</td>\n",
       "      <td>NaN</td>\n",
       "      <td>NaN</td>\n",
       "      <td>NaN</td>\n",
       "      <td>NaN</td>\n",
       "      <td>NaN</td>\n",
       "      <td>NaN</td>\n",
       "      <td>NaN</td>\n",
       "      <td>NaN</td>\n",
       "      <td>NaN</td>\n",
       "    </tr>\n",
       "    <tr>\n",
       "      <th>98</th>\n",
       "      <td>99</td>\n",
       "      <td>NaN</td>\n",
       "      <td>NaN</td>\n",
       "      <td>NaN</td>\n",
       "      <td>NaN</td>\n",
       "      <td>NaN</td>\n",
       "      <td>NaN</td>\n",
       "      <td>NaN</td>\n",
       "      <td>NaN</td>\n",
       "      <td>NaN</td>\n",
       "      <td>NaN</td>\n",
       "      <td>NaN</td>\n",
       "    </tr>\n",
       "    <tr>\n",
       "      <th>99</th>\n",
       "      <td>100</td>\n",
       "      <td>NaN</td>\n",
       "      <td>NaN</td>\n",
       "      <td>NaN</td>\n",
       "      <td>NaN</td>\n",
       "      <td>NaN</td>\n",
       "      <td>NaN</td>\n",
       "      <td>NaN</td>\n",
       "      <td>NaN</td>\n",
       "      <td>NaN</td>\n",
       "      <td>NaN</td>\n",
       "      <td>NaN</td>\n",
       "    </tr>\n",
       "  </tbody>\n",
       "</table>\n",
       "<p>100 rows × 12 columns</p>\n",
       "</div>"
      ],
      "text/plain": [
       "    S.NO                                   University Name       State  \\\n",
       "0      1                    Lovely Professional University  Tamil Nadu   \n",
       "1      2                             Chandigarh University         NaN   \n",
       "2      3                                 Christ University         NaN   \n",
       "3      4  National Institute of Technology Tiruchirappalli         NaN   \n",
       "4      5           SRM Institute of Science and Technology         NaN   \n",
       "..   ...                                               ...         ...   \n",
       "95    96                                               NaN         NaN   \n",
       "96    97                                               NaN         NaN   \n",
       "97    98                                               NaN         NaN   \n",
       "98    99                                               NaN         NaN   \n",
       "99   100                                               NaN         NaN   \n",
       "\n",
       "     District                                College description  \\\n",
       "0   New Delhi  SRM Institute of Science and Technology (SRM I...   \n",
       "1         NaN                                                NaN   \n",
       "2         NaN                                                NaN   \n",
       "3         NaN                                                NaN   \n",
       "4         NaN                                                NaN   \n",
       "..        ...                                                ...   \n",
       "95        NaN                                                NaN   \n",
       "96        NaN                                                NaN   \n",
       "97        NaN                                                NaN   \n",
       "98        NaN                                                NaN   \n",
       "99        NaN                                                NaN   \n",
       "\n",
       "                  College Link                          Location Link  \\\n",
       "0   https://www.srmist.edu.in/  https://goo.gl/maps/z7BsZBg1coy96UdJ8   \n",
       "1                          NaN                                    NaN   \n",
       "2                          NaN                                    NaN   \n",
       "3                          NaN                                    NaN   \n",
       "4                          NaN                                    NaN   \n",
       "..                         ...                                    ...   \n",
       "95                         NaN                                    NaN   \n",
       "96                         NaN                                    NaN   \n",
       "97                         NaN                                    NaN   \n",
       "98                         NaN                                    NaN   \n",
       "99                         NaN                                    NaN   \n",
       "\n",
       "    12th Percentage  Entrance Percentage  Ranking  Stream Rank OUTPUT  \n",
       "0              55.0                 55.0     47.0          1.0    YES  \n",
       "1               NaN                  NaN      NaN          2.0    NaN  \n",
       "2               NaN                  NaN      NaN          3.0    NaN  \n",
       "3               NaN                  NaN      NaN          4.0    NaN  \n",
       "4               NaN                  NaN      NaN          5.0    NaN  \n",
       "..              ...                  ...      ...          ...    ...  \n",
       "95              NaN                  NaN      NaN          NaN    NaN  \n",
       "96              NaN                  NaN      NaN          NaN    NaN  \n",
       "97              NaN                  NaN      NaN          NaN    NaN  \n",
       "98              NaN                  NaN      NaN          NaN    NaN  \n",
       "99              NaN                  NaN      NaN          NaN    NaN  \n",
       "\n",
       "[100 rows x 12 columns]"
      ]
     },
     "execution_count": 217,
     "metadata": {},
     "output_type": "execute_result"
    }
   ],
   "source": [
    "df.mode()"
   ]
  },
  {
   "cell_type": "code",
   "execution_count": 218,
   "metadata": {},
   "outputs": [
    {
     "data": {
      "text/plain": [
       "S.NO                    841.666667\n",
       "12th Percentage          66.414141\n",
       "Entrance Percentage      78.360707\n",
       "Ranking                2127.171717\n",
       "Stream Rank              33.585859\n",
       "dtype: float64"
      ]
     },
     "execution_count": 218,
     "metadata": {},
     "output_type": "execute_result"
    }
   ],
   "source": [
    "df.var()"
   ]
  },
  {
   "cell_type": "code",
   "execution_count": 219,
   "metadata": {},
   "outputs": [
    {
     "data": {
      "text/plain": [
       "S.NO                   29.011492\n",
       "12th Percentage         8.149487\n",
       "Entrance Percentage     8.852158\n",
       "Ranking                46.121272\n",
       "Stream Rank             5.795331\n",
       "dtype: float64"
      ]
     },
     "execution_count": 219,
     "metadata": {},
     "output_type": "execute_result"
    }
   ],
   "source": [
    "df.std()"
   ]
  },
  {
   "cell_type": "code",
   "execution_count": 220,
   "metadata": {},
   "outputs": [
    {
     "data": {
      "text/plain": [
       "S.NO                                                                   1\n",
       "University Name                           Lovely Professional University\n",
       "State                                                          Karnataka\n",
       "District                                                       Bangalore\n",
       "College description    Aligarh Muslim University (AMU) is one of Indi...\n",
       "College Link                                         http://ignou.ac.in/\n",
       "Location Link                         https://g.page/ChandigarhUni?share\n",
       "12th Percentage                                                       40\n",
       "Entrance Percentage                                                   40\n",
       "Ranking                                                                1\n",
       "Stream Rank                                                            1\n",
       "OUTPUT                                                               YES\n",
       "dtype: object"
      ]
     },
     "execution_count": 220,
     "metadata": {},
     "output_type": "execute_result"
    }
   ],
   "source": [
    "df.min()"
   ]
  },
  {
   "cell_type": "code",
   "execution_count": 221,
   "metadata": {},
   "outputs": [
    {
     "data": {
      "text/html": [
       "<div>\n",
       "<style scoped>\n",
       "    .dataframe tbody tr th:only-of-type {\n",
       "        vertical-align: middle;\n",
       "    }\n",
       "\n",
       "    .dataframe tbody tr th {\n",
       "        vertical-align: top;\n",
       "    }\n",
       "\n",
       "    .dataframe thead th {\n",
       "        text-align: right;\n",
       "    }\n",
       "</style>\n",
       "<table border=\"1\" class=\"dataframe\">\n",
       "  <thead>\n",
       "    <tr style=\"text-align: right;\">\n",
       "      <th></th>\n",
       "      <th>S.NO</th>\n",
       "      <th>12th Percentage</th>\n",
       "      <th>Entrance Percentage</th>\n",
       "      <th>Ranking</th>\n",
       "      <th>Stream Rank</th>\n",
       "    </tr>\n",
       "  </thead>\n",
       "  <tbody>\n",
       "    <tr>\n",
       "      <th>0.75</th>\n",
       "      <td>75.25</td>\n",
       "      <td>60.0</td>\n",
       "      <td>60.0</td>\n",
       "      <td>90.00</td>\n",
       "      <td>15.25</td>\n",
       "    </tr>\n",
       "    <tr>\n",
       "      <th>0.25</th>\n",
       "      <td>25.75</td>\n",
       "      <td>50.0</td>\n",
       "      <td>50.0</td>\n",
       "      <td>14.75</td>\n",
       "      <td>5.75</td>\n",
       "    </tr>\n",
       "  </tbody>\n",
       "</table>\n",
       "</div>"
      ],
      "text/plain": [
       "       S.NO  12th Percentage  Entrance Percentage  Ranking  Stream Rank\n",
       "0.75  75.25             60.0                 60.0    90.00        15.25\n",
       "0.25  25.75             50.0                 50.0    14.75         5.75"
      ]
     },
     "execution_count": 221,
     "metadata": {},
     "output_type": "execute_result"
    }
   ],
   "source": [
    "q = df.quantile([0.75,0.25])\n",
    "q"
   ]
  },
  {
   "cell_type": "code",
   "execution_count": 222,
   "metadata": {},
   "outputs": [
    {
     "data": {
      "text/plain": [
       "S.NO                   49.50\n",
       "12th Percentage        10.00\n",
       "Entrance Percentage    10.00\n",
       "Ranking                75.25\n",
       "Stream Rank             9.50\n",
       "dtype: float64"
      ]
     },
     "execution_count": 222,
     "metadata": {},
     "output_type": "execute_result"
    }
   ],
   "source": [
    "iqr = q.iloc[0] - q.iloc[1]  \n",
    "iqr"
   ]
  },
  {
   "cell_type": "code",
   "execution_count": 223,
   "metadata": {},
   "outputs": [
    {
     "data": {
      "text/plain": [
       "S.NO                   149.500\n",
       "12th Percentage         75.000\n",
       "Entrance Percentage     75.000\n",
       "Ranking                202.875\n",
       "Stream Rank             29.500\n",
       "dtype: float64"
      ]
     },
     "execution_count": 223,
     "metadata": {},
     "output_type": "execute_result"
    }
   ],
   "source": [
    "u = q.iloc[0] + (1.5 *iqr)  \n",
    "u "
   ]
  },
  {
   "cell_type": "code",
   "execution_count": 224,
   "metadata": {},
   "outputs": [
    {
     "data": {
      "text/plain": [
       "S.NO                  -48.500\n",
       "12th Percentage        35.000\n",
       "Entrance Percentage    35.000\n",
       "Ranking               -98.125\n",
       "Stream Rank            -8.500\n",
       "dtype: float64"
      ]
     },
     "execution_count": 224,
     "metadata": {},
     "output_type": "execute_result"
    }
   ],
   "source": [
    "l = q.iloc[1] - (1.5*iqr)  \n",
    "l"
   ]
  },
  {
   "cell_type": "code",
   "execution_count": 225,
   "metadata": {},
   "outputs": [
    {
     "name": "stdout",
     "output_type": "stream",
     "text": [
      "S.NO                   0.000000\n",
      "12th Percentage        0.892666\n",
      "Entrance Percentage    0.517408\n",
      "Ranking                0.832276\n",
      "Stream Rank            0.000000\n",
      "dtype: float64\n"
     ]
    }
   ],
   "source": [
    "print(df.skew())\n"
   ]
  },
  {
   "cell_type": "markdown",
   "metadata": {},
   "source": [
    "# outliers\n"
   ]
  },
  {
   "cell_type": "code",
   "execution_count": 226,
   "metadata": {},
   "outputs": [
    {
     "name": "stderr",
     "output_type": "stream",
     "text": [
      "C:\\Users\\A.Afrinbanu\\anaconda3\\lib\\site-packages\\seaborn\\_decorators.py:36: FutureWarning: Pass the following variable as a keyword arg: x. From version 0.12, the only valid positional argument will be `data`, and passing other arguments without an explicit keyword will result in an error or misinterpretation.\n",
      "  warnings.warn(\n"
     ]
    },
    {
     "data": {
      "text/plain": [
       "<AxesSubplot:xlabel='Entrance Percentage'>"
      ]
     },
     "execution_count": 226,
     "metadata": {},
     "output_type": "execute_result"
    },
    {
     "data": {
      "image/png": "[encoded data removed]",
      "text/plain": [
       "<Figure size 432x288 with 1 Axes>"
      ]
     },
     "metadata": {
      "needs_background": "light"
     },
     "output_type": "display_data"
    }
   ],
   "source": [
    "sns.boxplot(df['Entrance Percentage'])    "
   ]
  },
  {
   "cell_type": "markdown",
   "metadata": {},
   "source": [
    "# handling outliers"
   ]
  },
  {
   "cell_type": "code",
   "execution_count": 227,
   "metadata": {},
   "outputs": [],
   "source": [
    "df['Entrance Percentage'] = np.where(df['Entrance Percentage'] >70,40,df['Entrance Percentage'])"
   ]
  },
  {
   "cell_type": "code",
   "execution_count": 228,
   "metadata": {},
   "outputs": [
    {
     "name": "stderr",
     "output_type": "stream",
     "text": [
      "C:\\Users\\A.Afrinbanu\\anaconda3\\lib\\site-packages\\seaborn\\_decorators.py:36: FutureWarning: Pass the following variable as a keyword arg: x. From version 0.12, the only valid positional argument will be `data`, and passing other arguments without an explicit keyword will result in an error or misinterpretation.\n",
      "  warnings.warn(\n"
     ]
    },
    {
     "data": {
      "text/plain": [
       "<AxesSubplot:xlabel='Entrance Percentage'>"
      ]
     },
     "execution_count": 228,
     "metadata": {},
     "output_type": "execute_result"
    },
    {
     "data": {
      "image/png": "[encoded data removed]",
      "text/plain": [
       "<Figure size 432x288 with 1 Axes>"
      ]
     },
     "metadata": {
      "needs_background": "light"
     },
     "output_type": "display_data"
    }
   ],
   "source": [
    "sns.boxplot(df['Entrance Percentage'])"
   ]
  },
  {
   "cell_type": "markdown",
   "metadata": {},
   "source": [
    "# Encoding"
   ]
  },
  {
   "cell_type": "code",
   "execution_count": 229,
   "metadata": {},
   "outputs": [],
   "source": [
    "from sklearn.preprocessing import LabelEncoder"
   ]
  },
  {
   "cell_type": "code",
   "execution_count": 230,
   "metadata": {},
   "outputs": [],
   "source": [
    "le = LabelEncoder()  "
   ]
  },
  {
   "cell_type": "code",
   "execution_count": 231,
   "metadata": {},
   "outputs": [
    {
     "data": {
      "text/html": [
       "<div>\n",
       "<style scoped>\n",
       "    .dataframe tbody tr th:only-of-type {\n",
       "        vertical-align: middle;\n",
       "    }\n",
       "\n",
       "    .dataframe tbody tr th {\n",
       "        vertical-align: top;\n",
       "    }\n",
       "\n",
       "    .dataframe thead th {\n",
       "        text-align: right;\n",
       "    }\n",
       "</style>\n",
       "<table border=\"1\" class=\"dataframe\">\n",
       "  <thead>\n",
       "    <tr style=\"text-align: right;\">\n",
       "      <th></th>\n",
       "      <th>University Name</th>\n",
       "      <th>State</th>\n",
       "      <th>District</th>\n",
       "      <th>12th Percentage</th>\n",
       "      <th>Entrance Percentage</th>\n",
       "      <th>Stream Rank</th>\n",
       "      <th>OUTPUT</th>\n",
       "    </tr>\n",
       "  </thead>\n",
       "  <tbody>\n",
       "    <tr>\n",
       "      <th>0</th>\n",
       "      <td>Indira Gandhi National Open University</td>\n",
       "      <td>Delhi</td>\n",
       "      <td>New Delhi</td>\n",
       "      <td>55</td>\n",
       "      <td>55</td>\n",
       "      <td>1</td>\n",
       "      <td>YES</td>\n",
       "    </tr>\n",
       "    <tr>\n",
       "      <th>1</th>\n",
       "      <td>Jamia Millia Islamia</td>\n",
       "      <td>Delhi</td>\n",
       "      <td>New Delhi</td>\n",
       "      <td>50</td>\n",
       "      <td>50</td>\n",
       "      <td>2</td>\n",
       "      <td>YES</td>\n",
       "    </tr>\n",
       "    <tr>\n",
       "      <th>2</th>\n",
       "      <td>SRM Institute of Science and Technology</td>\n",
       "      <td>Tamil Nadu</td>\n",
       "      <td>Chennai</td>\n",
       "      <td>50</td>\n",
       "      <td>60</td>\n",
       "      <td>3</td>\n",
       "      <td>YES</td>\n",
       "    </tr>\n",
       "    <tr>\n",
       "      <th>3</th>\n",
       "      <td>Maharaja Sayajirao University of Baroda</td>\n",
       "      <td>Gujarat</td>\n",
       "      <td>Baroda</td>\n",
       "      <td>40</td>\n",
       "      <td>50</td>\n",
       "      <td>4</td>\n",
       "      <td>YES</td>\n",
       "    </tr>\n",
       "    <tr>\n",
       "      <th>4</th>\n",
       "      <td>Vellore Institute of Technology</td>\n",
       "      <td>Tamil Nadu</td>\n",
       "      <td>Vellore</td>\n",
       "      <td>55</td>\n",
       "      <td>55</td>\n",
       "      <td>5</td>\n",
       "      <td>YES</td>\n",
       "    </tr>\n",
       "  </tbody>\n",
       "</table>\n",
       "</div>"
      ],
      "text/plain": [
       "                           University Name       State   District  \\\n",
       "0   Indira Gandhi National Open University       Delhi  New Delhi   \n",
       "1                     Jamia Millia Islamia       Delhi  New Delhi   \n",
       "2  SRM Institute of Science and Technology  Tamil Nadu    Chennai   \n",
       "3  Maharaja Sayajirao University of Baroda     Gujarat     Baroda   \n",
       "4          Vellore Institute of Technology  Tamil Nadu    Vellore   \n",
       "\n",
       "   12th Percentage  Entrance Percentage  Stream Rank OUTPUT  \n",
       "0               55                   55            1    YES  \n",
       "1               50                   50            2    YES  \n",
       "2               50                   60            3    YES  \n",
       "3               40                   50            4    YES  \n",
       "4               55                   55            5    YES  "
      ]
     },
     "execution_count": 231,
     "metadata": {},
     "output_type": "execute_result"
    }
   ],
   "source": [
    "df = df.drop(['S.NO','College description','College Link','Location Link','Ranking'], axis=1)\n",
    "df.head()"
   ]
  },
  {
   "cell_type": "code",
   "execution_count": 232,
   "metadata": {},
   "outputs": [],
   "source": [
    "df['University Name'] = le.fit_transform(df['University Name'])\n",
    "df['State'] = le.fit_transform(df['State'])\n",
    "df['District'] = le.fit_transform(df['District'])\n",
    "df['OUTPUT'] = le.fit_transform(df['OUTPUT'])"
   ]
  },
  {
   "cell_type": "code",
   "execution_count": 233,
   "metadata": {},
   "outputs": [
    {
     "data": {
      "text/html": [
       "<div>\n",
       "<style scoped>\n",
       "    .dataframe tbody tr th:only-of-type {\n",
       "        vertical-align: middle;\n",
       "    }\n",
       "\n",
       "    .dataframe tbody tr th {\n",
       "        vertical-align: top;\n",
       "    }\n",
       "\n",
       "    .dataframe thead th {\n",
       "        text-align: right;\n",
       "    }\n",
       "</style>\n",
       "<table border=\"1\" class=\"dataframe\">\n",
       "  <thead>\n",
       "    <tr style=\"text-align: right;\">\n",
       "      <th></th>\n",
       "      <th>University Name</th>\n",
       "      <th>State</th>\n",
       "      <th>District</th>\n",
       "      <th>12th Percentage</th>\n",
       "      <th>Entrance Percentage</th>\n",
       "      <th>Stream Rank</th>\n",
       "      <th>OUTPUT</th>\n",
       "    </tr>\n",
       "  </thead>\n",
       "  <tbody>\n",
       "    <tr>\n",
       "      <th>0</th>\n",
       "      <td>18</td>\n",
       "      <td>1</td>\n",
       "      <td>16</td>\n",
       "      <td>55</td>\n",
       "      <td>55</td>\n",
       "      <td>1</td>\n",
       "      <td>0</td>\n",
       "    </tr>\n",
       "    <tr>\n",
       "      <th>1</th>\n",
       "      <td>22</td>\n",
       "      <td>1</td>\n",
       "      <td>16</td>\n",
       "      <td>50</td>\n",
       "      <td>50</td>\n",
       "      <td>2</td>\n",
       "      <td>0</td>\n",
       "    </tr>\n",
       "    <tr>\n",
       "      <th>2</th>\n",
       "      <td>32</td>\n",
       "      <td>7</td>\n",
       "      <td>5</td>\n",
       "      <td>50</td>\n",
       "      <td>60</td>\n",
       "      <td>3</td>\n",
       "      <td>0</td>\n",
       "    </tr>\n",
       "    <tr>\n",
       "      <th>3</th>\n",
       "      <td>24</td>\n",
       "      <td>2</td>\n",
       "      <td>3</td>\n",
       "      <td>40</td>\n",
       "      <td>50</td>\n",
       "      <td>4</td>\n",
       "      <td>0</td>\n",
       "    </tr>\n",
       "    <tr>\n",
       "      <th>4</th>\n",
       "      <td>38</td>\n",
       "      <td>7</td>\n",
       "      <td>24</td>\n",
       "      <td>55</td>\n",
       "      <td>55</td>\n",
       "      <td>5</td>\n",
       "      <td>0</td>\n",
       "    </tr>\n",
       "  </tbody>\n",
       "</table>\n",
       "</div>"
      ],
      "text/plain": [
       "   University Name  State  District  12th Percentage  Entrance Percentage  \\\n",
       "0               18      1        16               55                   55   \n",
       "1               22      1        16               50                   50   \n",
       "2               32      7         5               50                   60   \n",
       "3               24      2         3               40                   50   \n",
       "4               38      7        24               55                   55   \n",
       "\n",
       "   Stream Rank  OUTPUT  \n",
       "0            1       0  \n",
       "1            2       0  \n",
       "2            3       0  \n",
       "3            4       0  \n",
       "4            5       0  "
      ]
     },
     "execution_count": 233,
     "metadata": {},
     "output_type": "execute_result"
    }
   ],
   "source": [
    "df.head()"
   ]
  },
  {
   "cell_type": "code",
   "execution_count": 248,
   "metadata": {},
   "outputs": [],
   "source": [
    "x = df.iloc[:,0:6]\n",
    "y = df.iloc[:6:6]\n"
   ]
  },
  {
   "cell_type": "code",
   "execution_count": 249,
   "metadata": {},
   "outputs": [
    {
     "data": {
      "text/html": [
       "<div>\n",
       "<style scoped>\n",
       "    .dataframe tbody tr th:only-of-type {\n",
       "        vertical-align: middle;\n",
       "    }\n",
       "\n",
       "    .dataframe tbody tr th {\n",
       "        vertical-align: top;\n",
       "    }\n",
       "\n",
       "    .dataframe thead th {\n",
       "        text-align: right;\n",
       "    }\n",
       "</style>\n",
       "<table border=\"1\" class=\"dataframe\">\n",
       "  <thead>\n",
       "    <tr style=\"text-align: right;\">\n",
       "      <th></th>\n",
       "      <th>University Name</th>\n",
       "      <th>State</th>\n",
       "      <th>District</th>\n",
       "      <th>12th Percentage</th>\n",
       "      <th>Entrance Percentage</th>\n",
       "      <th>Stream Rank</th>\n",
       "    </tr>\n",
       "  </thead>\n",
       "  <tbody>\n",
       "    <tr>\n",
       "      <th>0</th>\n",
       "      <td>18</td>\n",
       "      <td>1</td>\n",
       "      <td>16</td>\n",
       "      <td>55</td>\n",
       "      <td>55</td>\n",
       "      <td>1</td>\n",
       "    </tr>\n",
       "    <tr>\n",
       "      <th>1</th>\n",
       "      <td>22</td>\n",
       "      <td>1</td>\n",
       "      <td>16</td>\n",
       "      <td>50</td>\n",
       "      <td>50</td>\n",
       "      <td>2</td>\n",
       "    </tr>\n",
       "    <tr>\n",
       "      <th>2</th>\n",
       "      <td>32</td>\n",
       "      <td>7</td>\n",
       "      <td>5</td>\n",
       "      <td>50</td>\n",
       "      <td>60</td>\n",
       "      <td>3</td>\n",
       "    </tr>\n",
       "    <tr>\n",
       "      <th>3</th>\n",
       "      <td>24</td>\n",
       "      <td>2</td>\n",
       "      <td>3</td>\n",
       "      <td>40</td>\n",
       "      <td>50</td>\n",
       "      <td>4</td>\n",
       "    </tr>\n",
       "    <tr>\n",
       "      <th>4</th>\n",
       "      <td>38</td>\n",
       "      <td>7</td>\n",
       "      <td>24</td>\n",
       "      <td>55</td>\n",
       "      <td>55</td>\n",
       "      <td>5</td>\n",
       "    </tr>\n",
       "    <tr>\n",
       "      <th>...</th>\n",
       "      <td>...</td>\n",
       "      <td>...</td>\n",
       "      <td>...</td>\n",
       "      <td>...</td>\n",
       "      <td>...</td>\n",
       "      <td>...</td>\n",
       "    </tr>\n",
       "    <tr>\n",
       "      <th>95</th>\n",
       "      <td>19</td>\n",
       "      <td>4</td>\n",
       "      <td>14</td>\n",
       "      <td>55</td>\n",
       "      <td>66</td>\n",
       "      <td>16</td>\n",
       "    </tr>\n",
       "    <tr>\n",
       "      <th>96</th>\n",
       "      <td>6</td>\n",
       "      <td>5</td>\n",
       "      <td>13</td>\n",
       "      <td>50</td>\n",
       "      <td>55</td>\n",
       "      <td>17</td>\n",
       "    </tr>\n",
       "    <tr>\n",
       "      <th>97</th>\n",
       "      <td>28</td>\n",
       "      <td>7</td>\n",
       "      <td>22</td>\n",
       "      <td>75</td>\n",
       "      <td>65</td>\n",
       "      <td>18</td>\n",
       "    </tr>\n",
       "    <tr>\n",
       "      <th>98</th>\n",
       "      <td>17</td>\n",
       "      <td>1</td>\n",
       "      <td>16</td>\n",
       "      <td>60</td>\n",
       "      <td>40</td>\n",
       "      <td>19</td>\n",
       "    </tr>\n",
       "    <tr>\n",
       "      <th>99</th>\n",
       "      <td>33</td>\n",
       "      <td>7</td>\n",
       "      <td>5</td>\n",
       "      <td>45</td>\n",
       "      <td>45</td>\n",
       "      <td>20</td>\n",
       "    </tr>\n",
       "  </tbody>\n",
       "</table>\n",
       "<p>100 rows × 6 columns</p>\n",
       "</div>"
      ],
      "text/plain": [
       "    University Name  State  District  12th Percentage  Entrance Percentage  \\\n",
       "0                18      1        16               55                   55   \n",
       "1                22      1        16               50                   50   \n",
       "2                32      7         5               50                   60   \n",
       "3                24      2         3               40                   50   \n",
       "4                38      7        24               55                   55   \n",
       "..              ...    ...       ...              ...                  ...   \n",
       "95               19      4        14               55                   66   \n",
       "96                6      5        13               50                   55   \n",
       "97               28      7        22               75                   65   \n",
       "98               17      1        16               60                   40   \n",
       "99               33      7         5               45                   45   \n",
       "\n",
       "    Stream Rank  \n",
       "0             1  \n",
       "1             2  \n",
       "2             3  \n",
       "3             4  \n",
       "4             5  \n",
       "..          ...  \n",
       "95           16  \n",
       "96           17  \n",
       "97           18  \n",
       "98           19  \n",
       "99           20  \n",
       "\n",
       "[100 rows x 6 columns]"
      ]
     },
     "execution_count": 249,
     "metadata": {},
     "output_type": "execute_result"
    }
   ],
   "source": [
    "x"
   ]
  },
  {
   "cell_type": "code",
   "execution_count": 257,
   "metadata": {},
   "outputs": [
    {
     "data": {
      "text/html": [
       "<div>\n",
       "<style scoped>\n",
       "    .dataframe tbody tr th:only-of-type {\n",
       "        vertical-align: middle;\n",
       "    }\n",
       "\n",
       "    .dataframe tbody tr th {\n",
       "        vertical-align: top;\n",
       "    }\n",
       "\n",
       "    .dataframe thead th {\n",
       "        text-align: right;\n",
       "    }\n",
       "</style>\n",
       "<table border=\"1\" class=\"dataframe\">\n",
       "  <thead>\n",
       "    <tr style=\"text-align: right;\">\n",
       "      <th></th>\n",
       "      <th>OUTPUT</th>\n",
       "    </tr>\n",
       "  </thead>\n",
       "  <tbody>\n",
       "    <tr>\n",
       "      <th>0</th>\n",
       "      <td>0</td>\n",
       "    </tr>\n",
       "    <tr>\n",
       "      <th>1</th>\n",
       "      <td>0</td>\n",
       "    </tr>\n",
       "    <tr>\n",
       "      <th>2</th>\n",
       "      <td>0</td>\n",
       "    </tr>\n",
       "    <tr>\n",
       "      <th>3</th>\n",
       "      <td>0</td>\n",
       "    </tr>\n",
       "    <tr>\n",
       "      <th>4</th>\n",
       "      <td>0</td>\n",
       "    </tr>\n",
       "    <tr>\n",
       "      <th>...</th>\n",
       "      <td>...</td>\n",
       "    </tr>\n",
       "    <tr>\n",
       "      <th>95</th>\n",
       "      <td>0</td>\n",
       "    </tr>\n",
       "    <tr>\n",
       "      <th>96</th>\n",
       "      <td>0</td>\n",
       "    </tr>\n",
       "    <tr>\n",
       "      <th>97</th>\n",
       "      <td>0</td>\n",
       "    </tr>\n",
       "    <tr>\n",
       "      <th>98</th>\n",
       "      <td>0</td>\n",
       "    </tr>\n",
       "    <tr>\n",
       "      <th>99</th>\n",
       "      <td>0</td>\n",
       "    </tr>\n",
       "  </tbody>\n",
       "</table>\n",
       "<p>100 rows × 1 columns</p>\n",
       "</div>"
      ],
      "text/plain": [
       "    OUTPUT\n",
       "0        0\n",
       "1        0\n",
       "2        0\n",
       "3        0\n",
       "4        0\n",
       "..     ...\n",
       "95       0\n",
       "96       0\n",
       "97       0\n",
       "98       0\n",
       "99       0\n",
       "\n",
       "[100 rows x 1 columns]"
      ]
     },
     "execution_count": 257,
     "metadata": {},
     "output_type": "execute_result"
    }
   ],
   "source": [
    "y = df.iloc[:,6:7]\n",
    "y"
   ]
  }
 ],
 "metadata": {
  "kernelspec": {
   "display_name": "Python 3",
   "language": "python",
   "name": "python3"
  },
  "language_info": {
   "codemirror_mode": {
    "name": "ipython",
    "version": 3
   },
   "file_extension": ".py",
   "mimetype": "text/x-python",
   "name": "python",
   "nbconvert_exporter": "python",
   "pygments_lexer": "ipython3",
   "version": "3.8.5"
  }
 },
 "nbformat": 4,
 "nbformat_minor": 4
}
